{
 "cells": [
  {
   "cell_type": "code",
   "execution_count": 4,
   "id": "e4f9e902-bf88-4b00-9b25-e685c83e803d",
   "metadata": {
    "tags": []
   },
   "outputs": [],
   "source": [
    "path='Toronto Island Ferry Ticket Counts.csv'\n",
    "import pandas as pd \n",
    "import numpy as np \n",
    "df=pd.read_csv(path,parse_dates=['Timestamp'])"
   ]
  },
  {
   "cell_type": "code",
   "execution_count": 5,
   "id": "cba99bd4-e430-46a6-b3e6-e83df8da5133",
   "metadata": {
    "tags": []
   },
   "outputs": [
    {
     "data": {
      "text/html": [
       "<div>\n",
       "<style scoped>\n",
       "    .dataframe tbody tr th:only-of-type {\n",
       "        vertical-align: middle;\n",
       "    }\n",
       "\n",
       "    .dataframe tbody tr th {\n",
       "        vertical-align: top;\n",
       "    }\n",
       "\n",
       "    .dataframe thead th {\n",
       "        text-align: right;\n",
       "    }\n",
       "</style>\n",
       "<table border=\"1\" class=\"dataframe\">\n",
       "  <thead>\n",
       "    <tr style=\"text-align: right;\">\n",
       "      <th></th>\n",
       "      <th>_id</th>\n",
       "      <th>Timestamp</th>\n",
       "      <th>Redemption Count</th>\n",
       "      <th>Sales Count</th>\n",
       "    </tr>\n",
       "  </thead>\n",
       "  <tbody>\n",
       "    <tr>\n",
       "      <th>0</th>\n",
       "      <td>1</td>\n",
       "      <td>2025-06-06 18:45:00</td>\n",
       "      <td>83</td>\n",
       "      <td>0</td>\n",
       "    </tr>\n",
       "    <tr>\n",
       "      <th>1</th>\n",
       "      <td>2</td>\n",
       "      <td>2025-06-06 18:30:00</td>\n",
       "      <td>82</td>\n",
       "      <td>0</td>\n",
       "    </tr>\n",
       "    <tr>\n",
       "      <th>2</th>\n",
       "      <td>3</td>\n",
       "      <td>2025-06-06 18:15:00</td>\n",
       "      <td>88</td>\n",
       "      <td>103</td>\n",
       "    </tr>\n",
       "    <tr>\n",
       "      <th>3</th>\n",
       "      <td>4</td>\n",
       "      <td>2025-06-06 18:00:00</td>\n",
       "      <td>97</td>\n",
       "      <td>92</td>\n",
       "    </tr>\n",
       "    <tr>\n",
       "      <th>4</th>\n",
       "      <td>5</td>\n",
       "      <td>2025-06-06 17:45:00</td>\n",
       "      <td>37</td>\n",
       "      <td>43</td>\n",
       "    </tr>\n",
       "  </tbody>\n",
       "</table>\n",
       "</div>"
      ],
      "text/plain": [
       "   _id           Timestamp  Redemption Count  Sales Count\n",
       "0    1 2025-06-06 18:45:00                83            0\n",
       "1    2 2025-06-06 18:30:00                82            0\n",
       "2    3 2025-06-06 18:15:00                88          103\n",
       "3    4 2025-06-06 18:00:00                97           92\n",
       "4    5 2025-06-06 17:45:00                37           43"
      ]
     },
     "execution_count": 5,
     "metadata": {},
     "output_type": "execute_result"
    }
   ],
   "source": [
    "df.head()"
   ]
  },
  {
   "cell_type": "code",
   "execution_count": 6,
   "id": "c88929f6-16c8-42cf-8801-3e5a70ea7e02",
   "metadata": {
    "tags": []
   },
   "outputs": [],
   "source": [
    "df.drop(columns='_id',inplace=True)"
   ]
  },
  {
   "cell_type": "code",
   "execution_count": 7,
   "id": "cd64684a-aa0e-41f1-ad0c-f6bdde3560c8",
   "metadata": {
    "tags": []
   },
   "outputs": [
    {
     "data": {
      "text/html": [
       "<div>\n",
       "<style scoped>\n",
       "    .dataframe tbody tr th:only-of-type {\n",
       "        vertical-align: middle;\n",
       "    }\n",
       "\n",
       "    .dataframe tbody tr th {\n",
       "        vertical-align: top;\n",
       "    }\n",
       "\n",
       "    .dataframe thead th {\n",
       "        text-align: right;\n",
       "    }\n",
       "</style>\n",
       "<table border=\"1\" class=\"dataframe\">\n",
       "  <thead>\n",
       "    <tr style=\"text-align: right;\">\n",
       "      <th></th>\n",
       "      <th>Timestamp</th>\n",
       "      <th>Redemption Count</th>\n",
       "      <th>Sales Count</th>\n",
       "    </tr>\n",
       "  </thead>\n",
       "  <tbody>\n",
       "    <tr>\n",
       "      <th>0</th>\n",
       "      <td>2025-06-06 18:45:00</td>\n",
       "      <td>83</td>\n",
       "      <td>0</td>\n",
       "    </tr>\n",
       "    <tr>\n",
       "      <th>1</th>\n",
       "      <td>2025-06-06 18:30:00</td>\n",
       "      <td>82</td>\n",
       "      <td>0</td>\n",
       "    </tr>\n",
       "    <tr>\n",
       "      <th>2</th>\n",
       "      <td>2025-06-06 18:15:00</td>\n",
       "      <td>88</td>\n",
       "      <td>103</td>\n",
       "    </tr>\n",
       "    <tr>\n",
       "      <th>3</th>\n",
       "      <td>2025-06-06 18:00:00</td>\n",
       "      <td>97</td>\n",
       "      <td>92</td>\n",
       "    </tr>\n",
       "    <tr>\n",
       "      <th>4</th>\n",
       "      <td>2025-06-06 17:45:00</td>\n",
       "      <td>37</td>\n",
       "      <td>43</td>\n",
       "    </tr>\n",
       "  </tbody>\n",
       "</table>\n",
       "</div>"
      ],
      "text/plain": [
       "            Timestamp  Redemption Count  Sales Count\n",
       "0 2025-06-06 18:45:00                83            0\n",
       "1 2025-06-06 18:30:00                82            0\n",
       "2 2025-06-06 18:15:00                88          103\n",
       "3 2025-06-06 18:00:00                97           92\n",
       "4 2025-06-06 17:45:00                37           43"
      ]
     },
     "execution_count": 7,
     "metadata": {},
     "output_type": "execute_result"
    }
   ],
   "source": [
    "df.head()"
   ]
  },
  {
   "cell_type": "code",
   "execution_count": 8,
   "id": "9cb38f02-f4b0-4b4e-bf28-1ec5bbccdf07",
   "metadata": {
    "tags": []
   },
   "outputs": [],
   "source": [
    "df.set_index('Timestamp',inplace=True)\n",
    "#make it daily from 15 mins of intervaL\n",
    "daily=df['Sales Count'].resample('D').sum()"
   ]
  },
  {
   "cell_type": "code",
   "execution_count": 9,
   "id": "7d912859-347f-4fd0-b543-9331f6050e2a",
   "metadata": {
    "tags": []
   },
   "outputs": [
    {
     "data": {
      "text/plain": [
       "Timestamp\n",
       "2015-05-01       4\n",
       "2015-05-02       0\n",
       "2015-05-03       0\n",
       "2015-05-04      75\n",
       "2015-05-05     549\n",
       "              ... \n",
       "2025-06-02    5409\n",
       "2025-06-03    5503\n",
       "2025-06-04    5423\n",
       "2025-06-05    2919\n",
       "2025-06-06    5454\n",
       "Freq: D, Name: Sales Count, Length: 3690, dtype: int64"
      ]
     },
     "execution_count": 9,
     "metadata": {},
     "output_type": "execute_result"
    }
   ],
   "source": [
    "daily"
   ]
  },
  {
   "cell_type": "code",
   "execution_count": 26,
   "id": "39fb4b51-5fd6-4921-8b25-2d3693a300ba",
   "metadata": {
    "tags": []
   },
   "outputs": [],
   "source": [
    "\n",
    "#checking a small sample\n",
    "daily_sample=daily['2025-04-01':'2025-07-02']\n"
   ]
  },
  {
   "cell_type": "code",
   "execution_count": 28,
   "id": "482aa5fe-8149-4c25-b63b-bd8e71ecb1a8",
   "metadata": {
    "tags": []
   },
   "outputs": [
    {
     "data": {
      "image/png": "[encoded data removed]",
      "text/plain": [
       "<Figure size 640x480 with 4 Axes>"
      ]
     },
     "metadata": {},
     "output_type": "display_data"
    }
   ],
   "source": [
    "import matplotlib.pyplot as plt\n",
    "from statsmodels.tsa.seasonal import seasonal_decompose\n",
    "decomp=seasonal_decompose(daily_sample,period=7)\n",
    "fig = decomp.plot()\n",
    "plt.tight_layout()\n",
    "plt.show()"
   ]
  },
  {
   "cell_type": "code",
   "execution_count": 29,
   "id": "e9b1fecf-c86e-407e-85a0-d96b8d9867a6",
   "metadata": {
    "tags": []
   },
   "outputs": [],
   "source": [
    "#observed trend and seasonality"
   ]
  },
  {
   "cell_type": "code",
   "execution_count": 31,
   "id": "99bec8a6-7d26-4080-97a6-825db759212f",
   "metadata": {
    "tags": []
   },
   "outputs": [
    {
     "name": "stdout",
     "output_type": "stream",
     "text": [
      "\u001b[33mWARNING: Running pip as the 'root' user can result in broken permissions and conflicting behaviour with the system package manager. It is recommended to use a virtual environment instead: https://pip.pypa.io/warnings/venv\u001b[0m\u001b[33m\n",
      "\u001b[0m"
     ]
    }
   ],
   "source": [
    "!pip -q install darts"
   ]
  },
  {
   "cell_type": "code",
   "execution_count": 54,
   "id": "d9565efe-58bf-4fa6-81b1-b729372389ed",
   "metadata": {
    "tags": []
   },
   "outputs": [],
   "source": [
    "from sklearn.model_selection import TimeSeriesSplit\n",
    "from darts import TimeSeries\n",
    "from darts.models import NBEATSModel\n",
    "from darts.dataprocessing.transformers import Scaler\n",
    "from darts.metrics import mape,smape,rmse\n",
    "from pytorch_lightning.callbacks import EarlyStopping\n"
   ]
  },
  {
   "cell_type": "markdown",
   "id": "55bc22c6-c2e3-4e1b-9fb9-04422e08e665",
   "metadata": {},
   "source": [
    "### Used the NBEATS Model : \n",
    "This model works by using Backcast (past data) uses FCLayer for producing forecast component and backcast component.\n",
    "\n",
    "A Residual is calculated by subtracting the forecast and backcast.\n",
    "\n",
    "This residual becomes the input to the next block in the stack.  The forecasts are accumulated as Total Forecast.\n",
    "\n",
    "This model is superior in sense that this doesnt require manual feature engineering components. NBEATS learns trend and seasonality, The model primarily has boosting components in the architecture\n",
    "\n",
    "Reference: https://github.com/ServiceNow/N-BEATS\n",
    "\n",
    "Reference Architecture:\n",
    "![image.png](data:image/png;base64,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)\n",
    "\n",
    "Explore DARTS Libary here: https://unit8co.github.io/darts/generated_api/darts.models.forecasting.nbeats.html#darts.models.forecasting.nbeats.NBEATSModel"
   ]
  },
  {
   "cell_type": "code",
   "execution_count": null,
   "id": "e597e645-38e1-43d0-bccd-22b4cac665e6",
   "metadata": {
    "tags": []
   },
   "outputs": [
    {
     "name": "stderr",
     "output_type": "stream",
     "text": [
      "GPU available: True (cuda), used: True\n",
      "TPU available: False, using: 0 TPU cores\n",
      "HPU available: False, using: 0 HPUs\n",
      "LOCAL_RANK: 0 - CUDA_VISIBLE_DEVICES: [0]\n",
      "\n",
      "  | Name            | Type             | Params | Mode \n",
      "-------------------------------------------------------------\n",
      "0 | criterion       | MSELoss          | 0      | train\n",
      "1 | train_criterion | MSELoss          | 0      | train\n",
      "2 | val_criterion   | MSELoss          | 0      | train\n",
      "3 | train_metrics   | MetricCollection | 0      | train\n",
      "4 | val_metrics     | MetricCollection | 0      | train\n",
      "5 | stacks          | ModuleList       | 8.9 M  | train\n",
      "-------------------------------------------------------------\n",
      "8.9 M     Trainable params\n",
      "3.5 K     Non-trainable params\n",
      "8.9 M     Total params\n",
      "35.763    Total estimated model params size (MB)\n",
      "396       Modules in train mode\n",
      "0         Modules in eval mode\n"
     ]
    },
    {
     "data": {
      "application/vnd.jupyter.widget-view+json": {
       "model_id": "",
       "version_major": 2,
       "version_minor": 0
      },
      "text/plain": [
       "Sanity Checking: |          | 0/? [00:00<?, ?it/s]"
      ]
     },
     "metadata": {},
     "output_type": "display_data"
    },
    {
     "data": {
      "application/vnd.jupyter.widget-view+json": {
       "model_id": "e42771b60252458a86d328e415d3d477",
       "version_major": 2,
       "version_minor": 0
      },
      "text/plain": [
       "Training: |          | 0/? [00:00<?, ?it/s]"
      ]
     },
     "metadata": {},
     "output_type": "display_data"
    },
    {
     "data": {
      "application/vnd.jupyter.widget-view+json": {
       "model_id": "",
       "version_major": 2,
       "version_minor": 0
      },
      "text/plain": [
       "Validation: |          | 0/? [00:00<?, ?it/s]"
      ]
     },
     "metadata": {},
     "output_type": "display_data"
    },
    {
     "data": {
      "application/vnd.jupyter.widget-view+json": {
       "model_id": "",
       "version_major": 2,
       "version_minor": 0
      },
      "text/plain": [
       "Validation: |          | 0/? [00:00<?, ?it/s]"
      ]
     },
     "metadata": {},
     "output_type": "display_data"
    },
    {
     "data": {
      "application/vnd.jupyter.widget-view+json": {
       "model_id": "",
       "version_major": 2,
       "version_minor": 0
      },
      "text/plain": [
       "Validation: |          | 0/? [00:00<?, ?it/s]"
      ]
     },
     "metadata": {},
     "output_type": "display_data"
    },
    {
     "data": {
      "application/vnd.jupyter.widget-view+json": {
       "model_id": "",
       "version_major": 2,
       "version_minor": 0
      },
      "text/plain": [
       "Validation: |          | 0/? [00:00<?, ?it/s]"
      ]
     },
     "metadata": {},
     "output_type": "display_data"
    },
    {
     "data": {
      "application/vnd.jupyter.widget-view+json": {
       "model_id": "",
       "version_major": 2,
       "version_minor": 0
      },
      "text/plain": [
       "Validation: |          | 0/? [00:00<?, ?it/s]"
      ]
     },
     "metadata": {},
     "output_type": "display_data"
    },
    {
     "data": {
      "application/vnd.jupyter.widget-view+json": {
       "model_id": "",
       "version_major": 2,
       "version_minor": 0
      },
      "text/plain": [
       "Validation: |          | 0/? [00:00<?, ?it/s]"
      ]
     },
     "metadata": {},
     "output_type": "display_data"
    },
    {
     "data": {
      "application/vnd.jupyter.widget-view+json": {
       "model_id": "",
       "version_major": 2,
       "version_minor": 0
      },
      "text/plain": [
       "Validation: |          | 0/? [00:00<?, ?it/s]"
      ]
     },
     "metadata": {},
     "output_type": "display_data"
    },
    {
     "data": {
      "application/vnd.jupyter.widget-view+json": {
       "model_id": "",
       "version_major": 2,
       "version_minor": 0
      },
      "text/plain": [
       "Validation: |          | 0/? [00:00<?, ?it/s]"
      ]
     },
     "metadata": {},
     "output_type": "display_data"
    },
    {
     "data": {
      "application/vnd.jupyter.widget-view+json": {
       "model_id": "",
       "version_major": 2,
       "version_minor": 0
      },
      "text/plain": [
       "Validation: |          | 0/? [00:00<?, ?it/s]"
      ]
     },
     "metadata": {},
     "output_type": "display_data"
    },
    {
     "data": {
      "application/vnd.jupyter.widget-view+json": {
       "model_id": "",
       "version_major": 2,
       "version_minor": 0
      },
      "text/plain": [
       "Validation: |          | 0/? [00:00<?, ?it/s]"
      ]
     },
     "metadata": {},
     "output_type": "display_data"
    },
    {
     "data": {
      "application/vnd.jupyter.widget-view+json": {
       "model_id": "",
       "version_major": 2,
       "version_minor": 0
      },
      "text/plain": [
       "Validation: |          | 0/? [00:00<?, ?it/s]"
      ]
     },
     "metadata": {},
     "output_type": "display_data"
    },
    {
     "data": {
      "application/vnd.jupyter.widget-view+json": {
       "model_id": "",
       "version_major": 2,
       "version_minor": 0
      },
      "text/plain": [
       "Validation: |          | 0/? [00:00<?, ?it/s]"
      ]
     },
     "metadata": {},
     "output_type": "display_data"
    },
    {
     "data": {
      "application/vnd.jupyter.widget-view+json": {
       "model_id": "",
       "version_major": 2,
       "version_minor": 0
      },
      "text/plain": [
       "Validation: |          | 0/? [00:00<?, ?it/s]"
      ]
     },
     "metadata": {},
     "output_type": "display_data"
    },
    {
     "data": {
      "application/vnd.jupyter.widget-view+json": {
       "model_id": "",
       "version_major": 2,
       "version_minor": 0
      },
      "text/plain": [
       "Validation: |          | 0/? [00:00<?, ?it/s]"
      ]
     },
     "metadata": {},
     "output_type": "display_data"
    },
    {
     "data": {
      "application/vnd.jupyter.widget-view+json": {
       "model_id": "",
       "version_major": 2,
       "version_minor": 0
      },
      "text/plain": [
       "Validation: |          | 0/? [00:00<?, ?it/s]"
      ]
     },
     "metadata": {},
     "output_type": "display_data"
    },
    {
     "data": {
      "application/vnd.jupyter.widget-view+json": {
       "model_id": "",
       "version_major": 2,
       "version_minor": 0
      },
      "text/plain": [
       "Validation: |          | 0/? [00:00<?, ?it/s]"
      ]
     },
     "metadata": {},
     "output_type": "display_data"
    },
    {
     "data": {
      "application/vnd.jupyter.widget-view+json": {
       "model_id": "",
       "version_major": 2,
       "version_minor": 0
      },
      "text/plain": [
       "Validation: |          | 0/? [00:00<?, ?it/s]"
      ]
     },
     "metadata": {},
     "output_type": "display_data"
    },
    {
     "data": {
      "application/vnd.jupyter.widget-view+json": {
       "model_id": "",
       "version_major": 2,
       "version_minor": 0
      },
      "text/plain": [
       "Validation: |          | 0/? [00:00<?, ?it/s]"
      ]
     },
     "metadata": {},
     "output_type": "display_data"
    },
    {
     "data": {
      "application/vnd.jupyter.widget-view+json": {
       "model_id": "",
       "version_major": 2,
       "version_minor": 0
      },
      "text/plain": [
       "Validation: |          | 0/? [00:00<?, ?it/s]"
      ]
     },
     "metadata": {},
     "output_type": "display_data"
    },
    {
     "data": {
      "application/vnd.jupyter.widget-view+json": {
       "model_id": "",
       "version_major": 2,
       "version_minor": 0
      },
      "text/plain": [
       "Validation: |          | 0/? [00:00<?, ?it/s]"
      ]
     },
     "metadata": {},
     "output_type": "display_data"
    },
    {
     "data": {
      "application/vnd.jupyter.widget-view+json": {
       "model_id": "",
       "version_major": 2,
       "version_minor": 0
      },
      "text/plain": [
       "Validation: |          | 0/? [00:00<?, ?it/s]"
      ]
     },
     "metadata": {},
     "output_type": "display_data"
    },
    {
     "data": {
      "application/vnd.jupyter.widget-view+json": {
       "model_id": "",
       "version_major": 2,
       "version_minor": 0
      },
      "text/plain": [
       "Validation: |          | 0/? [00:00<?, ?it/s]"
      ]
     },
     "metadata": {},
     "output_type": "display_data"
    },
    {
     "data": {
      "application/vnd.jupyter.widget-view+json": {
       "model_id": "",
       "version_major": 2,
       "version_minor": 0
      },
      "text/plain": [
       "Validation: |          | 0/? [00:00<?, ?it/s]"
      ]
     },
     "metadata": {},
     "output_type": "display_data"
    },
    {
     "data": {
      "application/vnd.jupyter.widget-view+json": {
       "model_id": "",
       "version_major": 2,
       "version_minor": 0
      },
      "text/plain": [
       "Validation: |          | 0/? [00:00<?, ?it/s]"
      ]
     },
     "metadata": {},
     "output_type": "display_data"
    },
    {
     "data": {
      "application/vnd.jupyter.widget-view+json": {
       "model_id": "",
       "version_major": 2,
       "version_minor": 0
      },
      "text/plain": [
       "Validation: |          | 0/? [00:00<?, ?it/s]"
      ]
     },
     "metadata": {},
     "output_type": "display_data"
    },
    {
     "data": {
      "application/vnd.jupyter.widget-view+json": {
       "model_id": "",
       "version_major": 2,
       "version_minor": 0
      },
      "text/plain": [
       "Validation: |          | 0/? [00:00<?, ?it/s]"
      ]
     },
     "metadata": {},
     "output_type": "display_data"
    },
    {
     "data": {
      "application/vnd.jupyter.widget-view+json": {
       "model_id": "",
       "version_major": 2,
       "version_minor": 0
      },
      "text/plain": [
       "Validation: |          | 0/? [00:00<?, ?it/s]"
      ]
     },
     "metadata": {},
     "output_type": "display_data"
    },
    {
     "data": {
      "application/vnd.jupyter.widget-view+json": {
       "model_id": "",
       "version_major": 2,
       "version_minor": 0
      },
      "text/plain": [
       "Validation: |          | 0/? [00:00<?, ?it/s]"
      ]
     },
     "metadata": {},
     "output_type": "display_data"
    },
    {
     "data": {
      "application/vnd.jupyter.widget-view+json": {
       "model_id": "",
       "version_major": 2,
       "version_minor": 0
      },
      "text/plain": [
       "Validation: |          | 0/? [00:00<?, ?it/s]"
      ]
     },
     "metadata": {},
     "output_type": "display_data"
    },
    {
     "data": {
      "application/vnd.jupyter.widget-view+json": {
       "model_id": "",
       "version_major": 2,
       "version_minor": 0
      },
      "text/plain": [
       "Validation: |          | 0/? [00:00<?, ?it/s]"
      ]
     },
     "metadata": {},
     "output_type": "display_data"
    },
    {
     "data": {
      "application/vnd.jupyter.widget-view+json": {
       "model_id": "",
       "version_major": 2,
       "version_minor": 0
      },
      "text/plain": [
       "Validation: |          | 0/? [00:00<?, ?it/s]"
      ]
     },
     "metadata": {},
     "output_type": "display_data"
    },
    {
     "data": {
      "application/vnd.jupyter.widget-view+json": {
       "model_id": "",
       "version_major": 2,
       "version_minor": 0
      },
      "text/plain": [
       "Validation: |          | 0/? [00:00<?, ?it/s]"
      ]
     },
     "metadata": {},
     "output_type": "display_data"
    },
    {
     "data": {
      "application/vnd.jupyter.widget-view+json": {
       "model_id": "",
       "version_major": 2,
       "version_minor": 0
      },
      "text/plain": [
       "Validation: |          | 0/? [00:00<?, ?it/s]"
      ]
     },
     "metadata": {},
     "output_type": "display_data"
    },
    {
     "data": {
      "application/vnd.jupyter.widget-view+json": {
       "model_id": "",
       "version_major": 2,
       "version_minor": 0
      },
      "text/plain": [
       "Validation: |          | 0/? [00:00<?, ?it/s]"
      ]
     },
     "metadata": {},
     "output_type": "display_data"
    },
    {
     "data": {
      "application/vnd.jupyter.widget-view+json": {
       "model_id": "",
       "version_major": 2,
       "version_minor": 0
      },
      "text/plain": [
       "Validation: |          | 0/? [00:00<?, ?it/s]"
      ]
     },
     "metadata": {},
     "output_type": "display_data"
    },
    {
     "data": {
      "application/vnd.jupyter.widget-view+json": {
       "model_id": "",
       "version_major": 2,
       "version_minor": 0
      },
      "text/plain": [
       "Validation: |          | 0/? [00:00<?, ?it/s]"
      ]
     },
     "metadata": {},
     "output_type": "display_data"
    },
    {
     "data": {
      "application/vnd.jupyter.widget-view+json": {
       "model_id": "",
       "version_major": 2,
       "version_minor": 0
      },
      "text/plain": [
       "Validation: |          | 0/? [00:00<?, ?it/s]"
      ]
     },
     "metadata": {},
     "output_type": "display_data"
    },
    {
     "data": {
      "application/vnd.jupyter.widget-view+json": {
       "model_id": "",
       "version_major": 2,
       "version_minor": 0
      },
      "text/plain": [
       "Validation: |          | 0/? [00:00<?, ?it/s]"
      ]
     },
     "metadata": {},
     "output_type": "display_data"
    },
    {
     "data": {
      "application/vnd.jupyter.widget-view+json": {
       "model_id": "",
       "version_major": 2,
       "version_minor": 0
      },
      "text/plain": [
       "Validation: |          | 0/? [00:00<?, ?it/s]"
      ]
     },
     "metadata": {},
     "output_type": "display_data"
    },
    {
     "data": {
      "application/vnd.jupyter.widget-view+json": {
       "model_id": "",
       "version_major": 2,
       "version_minor": 0
      },
      "text/plain": [
       "Validation: |          | 0/? [00:00<?, ?it/s]"
      ]
     },
     "metadata": {},
     "output_type": "display_data"
    },
    {
     "data": {
      "application/vnd.jupyter.widget-view+json": {
       "model_id": "",
       "version_major": 2,
       "version_minor": 0
      },
      "text/plain": [
       "Validation: |          | 0/? [00:00<?, ?it/s]"
      ]
     },
     "metadata": {},
     "output_type": "display_data"
    },
    {
     "data": {
      "application/vnd.jupyter.widget-view+json": {
       "model_id": "",
       "version_major": 2,
       "version_minor": 0
      },
      "text/plain": [
       "Validation: |          | 0/? [00:00<?, ?it/s]"
      ]
     },
     "metadata": {},
     "output_type": "display_data"
    },
    {
     "data": {
      "application/vnd.jupyter.widget-view+json": {
       "model_id": "",
       "version_major": 2,
       "version_minor": 0
      },
      "text/plain": [
       "Validation: |          | 0/? [00:00<?, ?it/s]"
      ]
     },
     "metadata": {},
     "output_type": "display_data"
    },
    {
     "data": {
      "application/vnd.jupyter.widget-view+json": {
       "model_id": "",
       "version_major": 2,
       "version_minor": 0
      },
      "text/plain": [
       "Validation: |          | 0/? [00:00<?, ?it/s]"
      ]
     },
     "metadata": {},
     "output_type": "display_data"
    },
    {
     "data": {
      "application/vnd.jupyter.widget-view+json": {
       "model_id": "",
       "version_major": 2,
       "version_minor": 0
      },
      "text/plain": [
       "Validation: |          | 0/? [00:00<?, ?it/s]"
      ]
     },
     "metadata": {},
     "output_type": "display_data"
    },
    {
     "data": {
      "application/vnd.jupyter.widget-view+json": {
       "model_id": "",
       "version_major": 2,
       "version_minor": 0
      },
      "text/plain": [
       "Validation: |          | 0/? [00:00<?, ?it/s]"
      ]
     },
     "metadata": {},
     "output_type": "display_data"
    },
    {
     "data": {
      "application/vnd.jupyter.widget-view+json": {
       "model_id": "",
       "version_major": 2,
       "version_minor": 0
      },
      "text/plain": [
       "Validation: |          | 0/? [00:00<?, ?it/s]"
      ]
     },
     "metadata": {},
     "output_type": "display_data"
    },
    {
     "data": {
      "application/vnd.jupyter.widget-view+json": {
       "model_id": "",
       "version_major": 2,
       "version_minor": 0
      },
      "text/plain": [
       "Validation: |          | 0/? [00:00<?, ?it/s]"
      ]
     },
     "metadata": {},
     "output_type": "display_data"
    },
    {
     "data": {
      "application/vnd.jupyter.widget-view+json": {
       "model_id": "",
       "version_major": 2,
       "version_minor": 0
      },
      "text/plain": [
       "Validation: |          | 0/? [00:00<?, ?it/s]"
      ]
     },
     "metadata": {},
     "output_type": "display_data"
    },
    {
     "data": {
      "application/vnd.jupyter.widget-view+json": {
       "model_id": "",
       "version_major": 2,
       "version_minor": 0
      },
      "text/plain": [
       "Validation: |          | 0/? [00:00<?, ?it/s]"
      ]
     },
     "metadata": {},
     "output_type": "display_data"
    },
    {
     "name": "stderr",
     "output_type": "stream",
     "text": [
      "`Trainer.fit` stopped: `max_epochs=50` reached.\n",
      "GPU available: True (cuda), used: True\n",
      "TPU available: False, using: 0 TPU cores\n",
      "HPU available: False, using: 0 HPUs\n",
      "LOCAL_RANK: 0 - CUDA_VISIBLE_DEVICES: [0]\n"
     ]
    },
    {
     "data": {
      "application/vnd.jupyter.widget-view+json": {
       "model_id": "d299bd1d1d9242b6ac3e549372308079",
       "version_major": 2,
       "version_minor": 0
      },
      "text/plain": [
       "Predicting: |          | 0/? [00:00<?, ?it/s]"
      ]
     },
     "metadata": {},
     "output_type": "display_data"
    },
    {
     "name": "stdout",
     "output_type": "stream",
     "text": [
      "Fold 0 RMSE=1036.4498416543242\n"
     ]
    },
    {
     "data": {
      "image/png": "[encoded data removed]",
      "text/plain": [
       "<Figure size 1000x400 with 1 Axes>"
      ]
     },
     "metadata": {},
     "output_type": "display_data"
    },
    {
     "name": "stderr",
     "output_type": "stream",
     "text": [
      "GPU available: True (cuda), used: True\n",
      "TPU available: False, using: 0 TPU cores\n",
      "HPU available: False, using: 0 HPUs\n",
      "LOCAL_RANK: 0 - CUDA_VISIBLE_DEVICES: [0]\n",
      "\n",
      "  | Name            | Type             | Params | Mode \n",
      "-------------------------------------------------------------\n",
      "0 | criterion       | MSELoss          | 0      | train\n",
      "1 | train_criterion | MSELoss          | 0      | train\n",
      "2 | val_criterion   | MSELoss          | 0      | train\n",
      "3 | train_metrics   | MetricCollection | 0      | train\n",
      "4 | val_metrics     | MetricCollection | 0      | train\n",
      "5 | stacks          | ModuleList       | 8.9 M  | train\n",
      "-------------------------------------------------------------\n",
      "8.9 M     Trainable params\n",
      "3.5 K     Non-trainable params\n",
      "8.9 M     Total params\n",
      "35.763    Total estimated model params size (MB)\n",
      "396       Modules in train mode\n",
      "0         Modules in eval mode\n"
     ]
    },
    {
     "data": {
      "application/vnd.jupyter.widget-view+json": {
       "model_id": "",
       "version_major": 2,
       "version_minor": 0
      },
      "text/plain": [
       "Sanity Checking: |          | 0/? [00:00<?, ?it/s]"
      ]
     },
     "metadata": {},
     "output_type": "display_data"
    },
    {
     "data": {
      "application/vnd.jupyter.widget-view+json": {
       "model_id": "faab84d42f2e4c74864cf23d4ff588ba",
       "version_major": 2,
       "version_minor": 0
      },
      "text/plain": [
       "Training: |          | 0/? [00:00<?, ?it/s]"
      ]
     },
     "metadata": {},
     "output_type": "display_data"
    },
    {
     "data": {
      "application/vnd.jupyter.widget-view+json": {
       "model_id": "",
       "version_major": 2,
       "version_minor": 0
      },
      "text/plain": [
       "Validation: |          | 0/? [00:00<?, ?it/s]"
      ]
     },
     "metadata": {},
     "output_type": "display_data"
    },
    {
     "data": {
      "application/vnd.jupyter.widget-view+json": {
       "model_id": "",
       "version_major": 2,
       "version_minor": 0
      },
      "text/plain": [
       "Validation: |          | 0/? [00:00<?, ?it/s]"
      ]
     },
     "metadata": {},
     "output_type": "display_data"
    },
    {
     "data": {
      "application/vnd.jupyter.widget-view+json": {
       "model_id": "",
       "version_major": 2,
       "version_minor": 0
      },
      "text/plain": [
       "Validation: |          | 0/? [00:00<?, ?it/s]"
      ]
     },
     "metadata": {},
     "output_type": "display_data"
    },
    {
     "data": {
      "application/vnd.jupyter.widget-view+json": {
       "model_id": "",
       "version_major": 2,
       "version_minor": 0
      },
      "text/plain": [
       "Validation: |          | 0/? [00:00<?, ?it/s]"
      ]
     },
     "metadata": {},
     "output_type": "display_data"
    },
    {
     "data": {
      "application/vnd.jupyter.widget-view+json": {
       "model_id": "",
       "version_major": 2,
       "version_minor": 0
      },
      "text/plain": [
       "Validation: |          | 0/? [00:00<?, ?it/s]"
      ]
     },
     "metadata": {},
     "output_type": "display_data"
    },
    {
     "data": {
      "application/vnd.jupyter.widget-view+json": {
       "model_id": "",
       "version_major": 2,
       "version_minor": 0
      },
      "text/plain": [
       "Validation: |          | 0/? [00:00<?, ?it/s]"
      ]
     },
     "metadata": {},
     "output_type": "display_data"
    },
    {
     "data": {
      "application/vnd.jupyter.widget-view+json": {
       "model_id": "",
       "version_major": 2,
       "version_minor": 0
      },
      "text/plain": [
       "Validation: |          | 0/? [00:00<?, ?it/s]"
      ]
     },
     "metadata": {},
     "output_type": "display_data"
    },
    {
     "data": {
      "application/vnd.jupyter.widget-view+json": {
       "model_id": "",
       "version_major": 2,
       "version_minor": 0
      },
      "text/plain": [
       "Validation: |          | 0/? [00:00<?, ?it/s]"
      ]
     },
     "metadata": {},
     "output_type": "display_data"
    },
    {
     "data": {
      "application/vnd.jupyter.widget-view+json": {
       "model_id": "",
       "version_major": 2,
       "version_minor": 0
      },
      "text/plain": [
       "Validation: |          | 0/? [00:00<?, ?it/s]"
      ]
     },
     "metadata": {},
     "output_type": "display_data"
    },
    {
     "data": {
      "application/vnd.jupyter.widget-view+json": {
       "model_id": "",
       "version_major": 2,
       "version_minor": 0
      },
      "text/plain": [
       "Validation: |          | 0/? [00:00<?, ?it/s]"
      ]
     },
     "metadata": {},
     "output_type": "display_data"
    },
    {
     "data": {
      "application/vnd.jupyter.widget-view+json": {
       "model_id": "",
       "version_major": 2,
       "version_minor": 0
      },
      "text/plain": [
       "Validation: |          | 0/? [00:00<?, ?it/s]"
      ]
     },
     "metadata": {},
     "output_type": "display_data"
    },
    {
     "data": {
      "application/vnd.jupyter.widget-view+json": {
       "model_id": "",
       "version_major": 2,
       "version_minor": 0
      },
      "text/plain": [
       "Validation: |          | 0/? [00:00<?, ?it/s]"
      ]
     },
     "metadata": {},
     "output_type": "display_data"
    },
    {
     "data": {
      "application/vnd.jupyter.widget-view+json": {
       "model_id": "",
       "version_major": 2,
       "version_minor": 0
      },
      "text/plain": [
       "Validation: |          | 0/? [00:00<?, ?it/s]"
      ]
     },
     "metadata": {},
     "output_type": "display_data"
    },
    {
     "data": {
      "application/vnd.jupyter.widget-view+json": {
       "model_id": "",
       "version_major": 2,
       "version_minor": 0
      },
      "text/plain": [
       "Validation: |          | 0/? [00:00<?, ?it/s]"
      ]
     },
     "metadata": {},
     "output_type": "display_data"
    },
    {
     "data": {
      "application/vnd.jupyter.widget-view+json": {
       "model_id": "",
       "version_major": 2,
       "version_minor": 0
      },
      "text/plain": [
       "Validation: |          | 0/? [00:00<?, ?it/s]"
      ]
     },
     "metadata": {},
     "output_type": "display_data"
    },
    {
     "data": {
      "application/vnd.jupyter.widget-view+json": {
       "model_id": "",
       "version_major": 2,
       "version_minor": 0
      },
      "text/plain": [
       "Validation: |          | 0/? [00:00<?, ?it/s]"
      ]
     },
     "metadata": {},
     "output_type": "display_data"
    },
    {
     "data": {
      "application/vnd.jupyter.widget-view+json": {
       "model_id": "",
       "version_major": 2,
       "version_minor": 0
      },
      "text/plain": [
       "Validation: |          | 0/? [00:00<?, ?it/s]"
      ]
     },
     "metadata": {},
     "output_type": "display_data"
    },
    {
     "data": {
      "application/vnd.jupyter.widget-view+json": {
       "model_id": "",
       "version_major": 2,
       "version_minor": 0
      },
      "text/plain": [
       "Validation: |          | 0/? [00:00<?, ?it/s]"
      ]
     },
     "metadata": {},
     "output_type": "display_data"
    },
    {
     "data": {
      "application/vnd.jupyter.widget-view+json": {
       "model_id": "",
       "version_major": 2,
       "version_minor": 0
      },
      "text/plain": [
       "Validation: |          | 0/? [00:00<?, ?it/s]"
      ]
     },
     "metadata": {},
     "output_type": "display_data"
    },
    {
     "data": {
      "application/vnd.jupyter.widget-view+json": {
       "model_id": "",
       "version_major": 2,
       "version_minor": 0
      },
      "text/plain": [
       "Validation: |          | 0/? [00:00<?, ?it/s]"
      ]
     },
     "metadata": {},
     "output_type": "display_data"
    },
    {
     "data": {
      "application/vnd.jupyter.widget-view+json": {
       "model_id": "",
       "version_major": 2,
       "version_minor": 0
      },
      "text/plain": [
       "Validation: |          | 0/? [00:00<?, ?it/s]"
      ]
     },
     "metadata": {},
     "output_type": "display_data"
    },
    {
     "data": {
      "application/vnd.jupyter.widget-view+json": {
       "model_id": "",
       "version_major": 2,
       "version_minor": 0
      },
      "text/plain": [
       "Validation: |          | 0/? [00:00<?, ?it/s]"
      ]
     },
     "metadata": {},
     "output_type": "display_data"
    },
    {
     "data": {
      "application/vnd.jupyter.widget-view+json": {
       "model_id": "",
       "version_major": 2,
       "version_minor": 0
      },
      "text/plain": [
       "Validation: |          | 0/? [00:00<?, ?it/s]"
      ]
     },
     "metadata": {},
     "output_type": "display_data"
    },
    {
     "data": {
      "application/vnd.jupyter.widget-view+json": {
       "model_id": "",
       "version_major": 2,
       "version_minor": 0
      },
      "text/plain": [
       "Validation: |          | 0/? [00:00<?, ?it/s]"
      ]
     },
     "metadata": {},
     "output_type": "display_data"
    },
    {
     "data": {
      "application/vnd.jupyter.widget-view+json": {
       "model_id": "",
       "version_major": 2,
       "version_minor": 0
      },
      "text/plain": [
       "Validation: |          | 0/? [00:00<?, ?it/s]"
      ]
     },
     "metadata": {},
     "output_type": "display_data"
    },
    {
     "data": {
      "application/vnd.jupyter.widget-view+json": {
       "model_id": "",
       "version_major": 2,
       "version_minor": 0
      },
      "text/plain": [
       "Validation: |          | 0/? [00:00<?, ?it/s]"
      ]
     },
     "metadata": {},
     "output_type": "display_data"
    },
    {
     "data": {
      "application/vnd.jupyter.widget-view+json": {
       "model_id": "",
       "version_major": 2,
       "version_minor": 0
      },
      "text/plain": [
       "Validation: |          | 0/? [00:00<?, ?it/s]"
      ]
     },
     "metadata": {},
     "output_type": "display_data"
    },
    {
     "data": {
      "application/vnd.jupyter.widget-view+json": {
       "model_id": "",
       "version_major": 2,
       "version_minor": 0
      },
      "text/plain": [
       "Validation: |          | 0/? [00:00<?, ?it/s]"
      ]
     },
     "metadata": {},
     "output_type": "display_data"
    },
    {
     "data": {
      "application/vnd.jupyter.widget-view+json": {
       "model_id": "",
       "version_major": 2,
       "version_minor": 0
      },
      "text/plain": [
       "Validation: |          | 0/? [00:00<?, ?it/s]"
      ]
     },
     "metadata": {},
     "output_type": "display_data"
    },
    {
     "data": {
      "application/vnd.jupyter.widget-view+json": {
       "model_id": "",
       "version_major": 2,
       "version_minor": 0
      },
      "text/plain": [
       "Validation: |          | 0/? [00:00<?, ?it/s]"
      ]
     },
     "metadata": {},
     "output_type": "display_data"
    },
    {
     "data": {
      "application/vnd.jupyter.widget-view+json": {
       "model_id": "",
       "version_major": 2,
       "version_minor": 0
      },
      "text/plain": [
       "Validation: |          | 0/? [00:00<?, ?it/s]"
      ]
     },
     "metadata": {},
     "output_type": "display_data"
    },
    {
     "data": {
      "application/vnd.jupyter.widget-view+json": {
       "model_id": "",
       "version_major": 2,
       "version_minor": 0
      },
      "text/plain": [
       "Validation: |          | 0/? [00:00<?, ?it/s]"
      ]
     },
     "metadata": {},
     "output_type": "display_data"
    },
    {
     "data": {
      "application/vnd.jupyter.widget-view+json": {
       "model_id": "",
       "version_major": 2,
       "version_minor": 0
      },
      "text/plain": [
       "Validation: |          | 0/? [00:00<?, ?it/s]"
      ]
     },
     "metadata": {},
     "output_type": "display_data"
    },
    {
     "data": {
      "application/vnd.jupyter.widget-view+json": {
       "model_id": "",
       "version_major": 2,
       "version_minor": 0
      },
      "text/plain": [
       "Validation: |          | 0/? [00:00<?, ?it/s]"
      ]
     },
     "metadata": {},
     "output_type": "display_data"
    },
    {
     "data": {
      "application/vnd.jupyter.widget-view+json": {
       "model_id": "",
       "version_major": 2,
       "version_minor": 0
      },
      "text/plain": [
       "Validation: |          | 0/? [00:00<?, ?it/s]"
      ]
     },
     "metadata": {},
     "output_type": "display_data"
    },
    {
     "data": {
      "application/vnd.jupyter.widget-view+json": {
       "model_id": "",
       "version_major": 2,
       "version_minor": 0
      },
      "text/plain": [
       "Validation: |          | 0/? [00:00<?, ?it/s]"
      ]
     },
     "metadata": {},
     "output_type": "display_data"
    },
    {
     "data": {
      "application/vnd.jupyter.widget-view+json": {
       "model_id": "",
       "version_major": 2,
       "version_minor": 0
      },
      "text/plain": [
       "Validation: |          | 0/? [00:00<?, ?it/s]"
      ]
     },
     "metadata": {},
     "output_type": "display_data"
    },
    {
     "data": {
      "application/vnd.jupyter.widget-view+json": {
       "model_id": "",
       "version_major": 2,
       "version_minor": 0
      },
      "text/plain": [
       "Validation: |          | 0/? [00:00<?, ?it/s]"
      ]
     },
     "metadata": {},
     "output_type": "display_data"
    },
    {
     "data": {
      "application/vnd.jupyter.widget-view+json": {
       "model_id": "",
       "version_major": 2,
       "version_minor": 0
      },
      "text/plain": [
       "Validation: |          | 0/? [00:00<?, ?it/s]"
      ]
     },
     "metadata": {},
     "output_type": "display_data"
    },
    {
     "data": {
      "application/vnd.jupyter.widget-view+json": {
       "model_id": "",
       "version_major": 2,
       "version_minor": 0
      },
      "text/plain": [
       "Validation: |          | 0/? [00:00<?, ?it/s]"
      ]
     },
     "metadata": {},
     "output_type": "display_data"
    },
    {
     "data": {
      "application/vnd.jupyter.widget-view+json": {
       "model_id": "",
       "version_major": 2,
       "version_minor": 0
      },
      "text/plain": [
       "Validation: |          | 0/? [00:00<?, ?it/s]"
      ]
     },
     "metadata": {},
     "output_type": "display_data"
    },
    {
     "data": {
      "application/vnd.jupyter.widget-view+json": {
       "model_id": "",
       "version_major": 2,
       "version_minor": 0
      },
      "text/plain": [
       "Validation: |          | 0/? [00:00<?, ?it/s]"
      ]
     },
     "metadata": {},
     "output_type": "display_data"
    },
    {
     "data": {
      "application/vnd.jupyter.widget-view+json": {
       "model_id": "",
       "version_major": 2,
       "version_minor": 0
      },
      "text/plain": [
       "Validation: |          | 0/? [00:00<?, ?it/s]"
      ]
     },
     "metadata": {},
     "output_type": "display_data"
    },
    {
     "data": {
      "application/vnd.jupyter.widget-view+json": {
       "model_id": "",
       "version_major": 2,
       "version_minor": 0
      },
      "text/plain": [
       "Validation: |          | 0/? [00:00<?, ?it/s]"
      ]
     },
     "metadata": {},
     "output_type": "display_data"
    },
    {
     "data": {
      "application/vnd.jupyter.widget-view+json": {
       "model_id": "",
       "version_major": 2,
       "version_minor": 0
      },
      "text/plain": [
       "Validation: |          | 0/? [00:00<?, ?it/s]"
      ]
     },
     "metadata": {},
     "output_type": "display_data"
    },
    {
     "data": {
      "application/vnd.jupyter.widget-view+json": {
       "model_id": "",
       "version_major": 2,
       "version_minor": 0
      },
      "text/plain": [
       "Validation: |          | 0/? [00:00<?, ?it/s]"
      ]
     },
     "metadata": {},
     "output_type": "display_data"
    },
    {
     "data": {
      "application/vnd.jupyter.widget-view+json": {
       "model_id": "",
       "version_major": 2,
       "version_minor": 0
      },
      "text/plain": [
       "Validation: |          | 0/? [00:00<?, ?it/s]"
      ]
     },
     "metadata": {},
     "output_type": "display_data"
    },
    {
     "data": {
      "application/vnd.jupyter.widget-view+json": {
       "model_id": "",
       "version_major": 2,
       "version_minor": 0
      },
      "text/plain": [
       "Validation: |          | 0/? [00:00<?, ?it/s]"
      ]
     },
     "metadata": {},
     "output_type": "display_data"
    },
    {
     "data": {
      "application/vnd.jupyter.widget-view+json": {
       "model_id": "",
       "version_major": 2,
       "version_minor": 0
      },
      "text/plain": [
       "Validation: |          | 0/? [00:00<?, ?it/s]"
      ]
     },
     "metadata": {},
     "output_type": "display_data"
    },
    {
     "data": {
      "application/vnd.jupyter.widget-view+json": {
       "model_id": "",
       "version_major": 2,
       "version_minor": 0
      },
      "text/plain": [
       "Validation: |          | 0/? [00:00<?, ?it/s]"
      ]
     },
     "metadata": {},
     "output_type": "display_data"
    },
    {
     "name": "stderr",
     "output_type": "stream",
     "text": [
      "`Trainer.fit` stopped: `max_epochs=50` reached.\n",
      "GPU available: True (cuda), used: True\n",
      "TPU available: False, using: 0 TPU cores\n",
      "HPU available: False, using: 0 HPUs\n",
      "LOCAL_RANK: 0 - CUDA_VISIBLE_DEVICES: [0]\n"
     ]
    },
    {
     "data": {
      "application/vnd.jupyter.widget-view+json": {
       "model_id": "a230fe58d96f46a6a3b66904522d5963",
       "version_major": 2,
       "version_minor": 0
      },
      "text/plain": [
       "Predicting: |          | 0/? [00:00<?, ?it/s]"
      ]
     },
     "metadata": {},
     "output_type": "display_data"
    },
    {
     "name": "stdout",
     "output_type": "stream",
     "text": [
      "Fold 1 RMSE=2566.885805819475\n"
     ]
    },
    {
     "data": {
      "image/png": "[encoded data removed]",
      "text/plain": [
       "<Figure size 1000x400 with 1 Axes>"
      ]
     },
     "metadata": {},
     "output_type": "display_data"
    },
    {
     "name": "stderr",
     "output_type": "stream",
     "text": [
      "GPU available: True (cuda), used: True\n",
      "TPU available: False, using: 0 TPU cores\n",
      "HPU available: False, using: 0 HPUs\n",
      "LOCAL_RANK: 0 - CUDA_VISIBLE_DEVICES: [0]\n",
      "\n",
      "  | Name            | Type             | Params | Mode \n",
      "-------------------------------------------------------------\n",
      "0 | criterion       | MSELoss          | 0      | train\n",
      "1 | train_criterion | MSELoss          | 0      | train\n",
      "2 | val_criterion   | MSELoss          | 0      | train\n",
      "3 | train_metrics   | MetricCollection | 0      | train\n",
      "4 | val_metrics     | MetricCollection | 0      | train\n",
      "5 | stacks          | ModuleList       | 8.9 M  | train\n",
      "-------------------------------------------------------------\n",
      "8.9 M     Trainable params\n",
      "3.5 K     Non-trainable params\n",
      "8.9 M     Total params\n",
      "35.763    Total estimated model params size (MB)\n",
      "396       Modules in train mode\n",
      "0         Modules in eval mode\n"
     ]
    },
    {
     "data": {
      "application/vnd.jupyter.widget-view+json": {
       "model_id": "",
       "version_major": 2,
       "version_minor": 0
      },
      "text/plain": [
       "Sanity Checking: |          | 0/? [00:00<?, ?it/s]"
      ]
     },
     "metadata": {},
     "output_type": "display_data"
    },
    {
     "data": {
      "application/vnd.jupyter.widget-view+json": {
       "model_id": "c9277bd70ea74bb5bb598bd5db1d9bb9",
       "version_major": 2,
       "version_minor": 0
      },
      "text/plain": [
       "Training: |          | 0/? [00:00<?, ?it/s]"
      ]
     },
     "metadata": {},
     "output_type": "display_data"
    },
    {
     "data": {
      "application/vnd.jupyter.widget-view+json": {
       "model_id": "",
       "version_major": 2,
       "version_minor": 0
      },
      "text/plain": [
       "Validation: |          | 0/? [00:00<?, ?it/s]"
      ]
     },
     "metadata": {},
     "output_type": "display_data"
    },
    {
     "data": {
      "application/vnd.jupyter.widget-view+json": {
       "model_id": "",
       "version_major": 2,
       "version_minor": 0
      },
      "text/plain": [
       "Validation: |          | 0/? [00:00<?, ?it/s]"
      ]
     },
     "metadata": {},
     "output_type": "display_data"
    },
    {
     "data": {
      "application/vnd.jupyter.widget-view+json": {
       "model_id": "",
       "version_major": 2,
       "version_minor": 0
      },
      "text/plain": [
       "Validation: |          | 0/? [00:00<?, ?it/s]"
      ]
     },
     "metadata": {},
     "output_type": "display_data"
    },
    {
     "data": {
      "application/vnd.jupyter.widget-view+json": {
       "model_id": "",
       "version_major": 2,
       "version_minor": 0
      },
      "text/plain": [
       "Validation: |          | 0/? [00:00<?, ?it/s]"
      ]
     },
     "metadata": {},
     "output_type": "display_data"
    },
    {
     "data": {
      "application/vnd.jupyter.widget-view+json": {
       "model_id": "",
       "version_major": 2,
       "version_minor": 0
      },
      "text/plain": [
       "Validation: |          | 0/? [00:00<?, ?it/s]"
      ]
     },
     "metadata": {},
     "output_type": "display_data"
    },
    {
     "data": {
      "application/vnd.jupyter.widget-view+json": {
       "model_id": "",
       "version_major": 2,
       "version_minor": 0
      },
      "text/plain": [
       "Validation: |          | 0/? [00:00<?, ?it/s]"
      ]
     },
     "metadata": {},
     "output_type": "display_data"
    },
    {
     "data": {
      "application/vnd.jupyter.widget-view+json": {
       "model_id": "",
       "version_major": 2,
       "version_minor": 0
      },
      "text/plain": [
       "Validation: |          | 0/? [00:00<?, ?it/s]"
      ]
     },
     "metadata": {},
     "output_type": "display_data"
    },
    {
     "data": {
      "application/vnd.jupyter.widget-view+json": {
       "model_id": "",
       "version_major": 2,
       "version_minor": 0
      },
      "text/plain": [
       "Validation: |          | 0/? [00:00<?, ?it/s]"
      ]
     },
     "metadata": {},
     "output_type": "display_data"
    },
    {
     "data": {
      "application/vnd.jupyter.widget-view+json": {
       "model_id": "",
       "version_major": 2,
       "version_minor": 0
      },
      "text/plain": [
       "Validation: |          | 0/? [00:00<?, ?it/s]"
      ]
     },
     "metadata": {},
     "output_type": "display_data"
    },
    {
     "data": {
      "application/vnd.jupyter.widget-view+json": {
       "model_id": "",
       "version_major": 2,
       "version_minor": 0
      },
      "text/plain": [
       "Validation: |          | 0/? [00:00<?, ?it/s]"
      ]
     },
     "metadata": {},
     "output_type": "display_data"
    },
    {
     "data": {
      "application/vnd.jupyter.widget-view+json": {
       "model_id": "",
       "version_major": 2,
       "version_minor": 0
      },
      "text/plain": [
       "Validation: |          | 0/? [00:00<?, ?it/s]"
      ]
     },
     "metadata": {},
     "output_type": "display_data"
    },
    {
     "data": {
      "application/vnd.jupyter.widget-view+json": {
       "model_id": "",
       "version_major": 2,
       "version_minor": 0
      },
      "text/plain": [
       "Validation: |          | 0/? [00:00<?, ?it/s]"
      ]
     },
     "metadata": {},
     "output_type": "display_data"
    },
    {
     "data": {
      "application/vnd.jupyter.widget-view+json": {
       "model_id": "",
       "version_major": 2,
       "version_minor": 0
      },
      "text/plain": [
       "Validation: |          | 0/? [00:00<?, ?it/s]"
      ]
     },
     "metadata": {},
     "output_type": "display_data"
    },
    {
     "data": {
      "application/vnd.jupyter.widget-view+json": {
       "model_id": "",
       "version_major": 2,
       "version_minor": 0
      },
      "text/plain": [
       "Validation: |          | 0/? [00:00<?, ?it/s]"
      ]
     },
     "metadata": {},
     "output_type": "display_data"
    },
    {
     "data": {
      "application/vnd.jupyter.widget-view+json": {
       "model_id": "",
       "version_major": 2,
       "version_minor": 0
      },
      "text/plain": [
       "Validation: |          | 0/? [00:00<?, ?it/s]"
      ]
     },
     "metadata": {},
     "output_type": "display_data"
    },
    {
     "data": {
      "application/vnd.jupyter.widget-view+json": {
       "model_id": "",
       "version_major": 2,
       "version_minor": 0
      },
      "text/plain": [
       "Validation: |          | 0/? [00:00<?, ?it/s]"
      ]
     },
     "metadata": {},
     "output_type": "display_data"
    },
    {
     "data": {
      "application/vnd.jupyter.widget-view+json": {
       "model_id": "",
       "version_major": 2,
       "version_minor": 0
      },
      "text/plain": [
       "Validation: |          | 0/? [00:00<?, ?it/s]"
      ]
     },
     "metadata": {},
     "output_type": "display_data"
    },
    {
     "data": {
      "application/vnd.jupyter.widget-view+json": {
       "model_id": "",
       "version_major": 2,
       "version_minor": 0
      },
      "text/plain": [
       "Validation: |          | 0/? [00:00<?, ?it/s]"
      ]
     },
     "metadata": {},
     "output_type": "display_data"
    },
    {
     "data": {
      "application/vnd.jupyter.widget-view+json": {
       "model_id": "",
       "version_major": 2,
       "version_minor": 0
      },
      "text/plain": [
       "Validation: |          | 0/? [00:00<?, ?it/s]"
      ]
     },
     "metadata": {},
     "output_type": "display_data"
    },
    {
     "data": {
      "application/vnd.jupyter.widget-view+json": {
       "model_id": "",
       "version_major": 2,
       "version_minor": 0
      },
      "text/plain": [
       "Validation: |          | 0/? [00:00<?, ?it/s]"
      ]
     },
     "metadata": {},
     "output_type": "display_data"
    },
    {
     "data": {
      "application/vnd.jupyter.widget-view+json": {
       "model_id": "",
       "version_major": 2,
       "version_minor": 0
      },
      "text/plain": [
       "Validation: |          | 0/? [00:00<?, ?it/s]"
      ]
     },
     "metadata": {},
     "output_type": "display_data"
    },
    {
     "data": {
      "application/vnd.jupyter.widget-view+json": {
       "model_id": "",
       "version_major": 2,
       "version_minor": 0
      },
      "text/plain": [
       "Validation: |          | 0/? [00:00<?, ?it/s]"
      ]
     },
     "metadata": {},
     "output_type": "display_data"
    },
    {
     "data": {
      "application/vnd.jupyter.widget-view+json": {
       "model_id": "",
       "version_major": 2,
       "version_minor": 0
      },
      "text/plain": [
       "Validation: |          | 0/? [00:00<?, ?it/s]"
      ]
     },
     "metadata": {},
     "output_type": "display_data"
    },
    {
     "data": {
      "application/vnd.jupyter.widget-view+json": {
       "model_id": "",
       "version_major": 2,
       "version_minor": 0
      },
      "text/plain": [
       "Validation: |          | 0/? [00:00<?, ?it/s]"
      ]
     },
     "metadata": {},
     "output_type": "display_data"
    },
    {
     "data": {
      "application/vnd.jupyter.widget-view+json": {
       "model_id": "",
       "version_major": 2,
       "version_minor": 0
      },
      "text/plain": [
       "Validation: |          | 0/? [00:00<?, ?it/s]"
      ]
     },
     "metadata": {},
     "output_type": "display_data"
    },
    {
     "data": {
      "application/vnd.jupyter.widget-view+json": {
       "model_id": "",
       "version_major": 2,
       "version_minor": 0
      },
      "text/plain": [
       "Validation: |          | 0/? [00:00<?, ?it/s]"
      ]
     },
     "metadata": {},
     "output_type": "display_data"
    },
    {
     "data": {
      "application/vnd.jupyter.widget-view+json": {
       "model_id": "",
       "version_major": 2,
       "version_minor": 0
      },
      "text/plain": [
       "Validation: |          | 0/? [00:00<?, ?it/s]"
      ]
     },
     "metadata": {},
     "output_type": "display_data"
    },
    {
     "data": {
      "application/vnd.jupyter.widget-view+json": {
       "model_id": "",
       "version_major": 2,
       "version_minor": 0
      },
      "text/plain": [
       "Validation: |          | 0/? [00:00<?, ?it/s]"
      ]
     },
     "metadata": {},
     "output_type": "display_data"
    },
    {
     "data": {
      "application/vnd.jupyter.widget-view+json": {
       "model_id": "",
       "version_major": 2,
       "version_minor": 0
      },
      "text/plain": [
       "Validation: |          | 0/? [00:00<?, ?it/s]"
      ]
     },
     "metadata": {},
     "output_type": "display_data"
    },
    {
     "data": {
      "application/vnd.jupyter.widget-view+json": {
       "model_id": "",
       "version_major": 2,
       "version_minor": 0
      },
      "text/plain": [
       "Validation: |          | 0/? [00:00<?, ?it/s]"
      ]
     },
     "metadata": {},
     "output_type": "display_data"
    },
    {
     "data": {
      "application/vnd.jupyter.widget-view+json": {
       "model_id": "",
       "version_major": 2,
       "version_minor": 0
      },
      "text/plain": [
       "Validation: |          | 0/? [00:00<?, ?it/s]"
      ]
     },
     "metadata": {},
     "output_type": "display_data"
    },
    {
     "data": {
      "application/vnd.jupyter.widget-view+json": {
       "model_id": "",
       "version_major": 2,
       "version_minor": 0
      },
      "text/plain": [
       "Validation: |          | 0/? [00:00<?, ?it/s]"
      ]
     },
     "metadata": {},
     "output_type": "display_data"
    },
    {
     "data": {
      "application/vnd.jupyter.widget-view+json": {
       "model_id": "",
       "version_major": 2,
       "version_minor": 0
      },
      "text/plain": [
       "Validation: |          | 0/? [00:00<?, ?it/s]"
      ]
     },
     "metadata": {},
     "output_type": "display_data"
    },
    {
     "data": {
      "application/vnd.jupyter.widget-view+json": {
       "model_id": "",
       "version_major": 2,
       "version_minor": 0
      },
      "text/plain": [
       "Validation: |          | 0/? [00:00<?, ?it/s]"
      ]
     },
     "metadata": {},
     "output_type": "display_data"
    },
    {
     "data": {
      "application/vnd.jupyter.widget-view+json": {
       "model_id": "",
       "version_major": 2,
       "version_minor": 0
      },
      "text/plain": [
       "Validation: |          | 0/? [00:00<?, ?it/s]"
      ]
     },
     "metadata": {},
     "output_type": "display_data"
    },
    {
     "data": {
      "application/vnd.jupyter.widget-view+json": {
       "model_id": "",
       "version_major": 2,
       "version_minor": 0
      },
      "text/plain": [
       "Validation: |          | 0/? [00:00<?, ?it/s]"
      ]
     },
     "metadata": {},
     "output_type": "display_data"
    },
    {
     "data": {
      "application/vnd.jupyter.widget-view+json": {
       "model_id": "",
       "version_major": 2,
       "version_minor": 0
      },
      "text/plain": [
       "Validation: |          | 0/? [00:00<?, ?it/s]"
      ]
     },
     "metadata": {},
     "output_type": "display_data"
    },
    {
     "data": {
      "application/vnd.jupyter.widget-view+json": {
       "model_id": "",
       "version_major": 2,
       "version_minor": 0
      },
      "text/plain": [
       "Validation: |          | 0/? [00:00<?, ?it/s]"
      ]
     },
     "metadata": {},
     "output_type": "display_data"
    },
    {
     "data": {
      "application/vnd.jupyter.widget-view+json": {
       "model_id": "",
       "version_major": 2,
       "version_minor": 0
      },
      "text/plain": [
       "Validation: |          | 0/? [00:00<?, ?it/s]"
      ]
     },
     "metadata": {},
     "output_type": "display_data"
    },
    {
     "data": {
      "application/vnd.jupyter.widget-view+json": {
       "model_id": "",
       "version_major": 2,
       "version_minor": 0
      },
      "text/plain": [
       "Validation: |          | 0/? [00:00<?, ?it/s]"
      ]
     },
     "metadata": {},
     "output_type": "display_data"
    },
    {
     "data": {
      "application/vnd.jupyter.widget-view+json": {
       "model_id": "",
       "version_major": 2,
       "version_minor": 0
      },
      "text/plain": [
       "Validation: |          | 0/? [00:00<?, ?it/s]"
      ]
     },
     "metadata": {},
     "output_type": "display_data"
    },
    {
     "data": {
      "application/vnd.jupyter.widget-view+json": {
       "model_id": "",
       "version_major": 2,
       "version_minor": 0
      },
      "text/plain": [
       "Validation: |          | 0/? [00:00<?, ?it/s]"
      ]
     },
     "metadata": {},
     "output_type": "display_data"
    },
    {
     "data": {
      "application/vnd.jupyter.widget-view+json": {
       "model_id": "",
       "version_major": 2,
       "version_minor": 0
      },
      "text/plain": [
       "Validation: |          | 0/? [00:00<?, ?it/s]"
      ]
     },
     "metadata": {},
     "output_type": "display_data"
    },
    {
     "data": {
      "application/vnd.jupyter.widget-view+json": {
       "model_id": "",
       "version_major": 2,
       "version_minor": 0
      },
      "text/plain": [
       "Validation: |          | 0/? [00:00<?, ?it/s]"
      ]
     },
     "metadata": {},
     "output_type": "display_data"
    },
    {
     "data": {
      "application/vnd.jupyter.widget-view+json": {
       "model_id": "",
       "version_major": 2,
       "version_minor": 0
      },
      "text/plain": [
       "Validation: |          | 0/? [00:00<?, ?it/s]"
      ]
     },
     "metadata": {},
     "output_type": "display_data"
    },
    {
     "data": {
      "application/vnd.jupyter.widget-view+json": {
       "model_id": "",
       "version_major": 2,
       "version_minor": 0
      },
      "text/plain": [
       "Validation: |          | 0/? [00:00<?, ?it/s]"
      ]
     },
     "metadata": {},
     "output_type": "display_data"
    },
    {
     "data": {
      "application/vnd.jupyter.widget-view+json": {
       "model_id": "",
       "version_major": 2,
       "version_minor": 0
      },
      "text/plain": [
       "Validation: |          | 0/? [00:00<?, ?it/s]"
      ]
     },
     "metadata": {},
     "output_type": "display_data"
    },
    {
     "data": {
      "application/vnd.jupyter.widget-view+json": {
       "model_id": "",
       "version_major": 2,
       "version_minor": 0
      },
      "text/plain": [
       "Validation: |          | 0/? [00:00<?, ?it/s]"
      ]
     },
     "metadata": {},
     "output_type": "display_data"
    },
    {
     "data": {
      "application/vnd.jupyter.widget-view+json": {
       "model_id": "",
       "version_major": 2,
       "version_minor": 0
      },
      "text/plain": [
       "Validation: |          | 0/? [00:00<?, ?it/s]"
      ]
     },
     "metadata": {},
     "output_type": "display_data"
    },
    {
     "data": {
      "application/vnd.jupyter.widget-view+json": {
       "model_id": "",
       "version_major": 2,
       "version_minor": 0
      },
      "text/plain": [
       "Validation: |          | 0/? [00:00<?, ?it/s]"
      ]
     },
     "metadata": {},
     "output_type": "display_data"
    },
    {
     "name": "stderr",
     "output_type": "stream",
     "text": [
      "`Trainer.fit` stopped: `max_epochs=50` reached.\n",
      "GPU available: True (cuda), used: True\n",
      "TPU available: False, using: 0 TPU cores\n",
      "HPU available: False, using: 0 HPUs\n",
      "LOCAL_RANK: 0 - CUDA_VISIBLE_DEVICES: [0]\n"
     ]
    },
    {
     "data": {
      "application/vnd.jupyter.widget-view+json": {
       "model_id": "277d159086504b46a1939bdec20b98d4",
       "version_major": 2,
       "version_minor": 0
      },
      "text/plain": [
       "Predicting: |          | 0/? [00:00<?, ?it/s]"
      ]
     },
     "metadata": {},
     "output_type": "display_data"
    },
    {
     "name": "stdout",
     "output_type": "stream",
     "text": [
      "Fold 2 RMSE=2571.339294864092\n"
     ]
    },
    {
     "data": {
      "image/png": "[encoded data removed]",
      "text/plain": [
       "<Figure size 1000x400 with 1 Axes>"
      ]
     },
     "metadata": {},
     "output_type": "display_data"
    },
    {
     "name": "stderr",
     "output_type": "stream",
     "text": [
      "GPU available: True (cuda), used: True\n",
      "TPU available: False, using: 0 TPU cores\n",
      "HPU available: False, using: 0 HPUs\n",
      "LOCAL_RANK: 0 - CUDA_VISIBLE_DEVICES: [0]\n",
      "\n",
      "  | Name            | Type             | Params | Mode \n",
      "-------------------------------------------------------------\n",
      "0 | criterion       | MSELoss          | 0      | train\n",
      "1 | train_criterion | MSELoss          | 0      | train\n",
      "2 | val_criterion   | MSELoss          | 0      | train\n",
      "3 | train_metrics   | MetricCollection | 0      | train\n",
      "4 | val_metrics     | MetricCollection | 0      | train\n",
      "5 | stacks          | ModuleList       | 8.9 M  | train\n",
      "-------------------------------------------------------------\n",
      "8.9 M     Trainable params\n",
      "3.5 K     Non-trainable params\n",
      "8.9 M     Total params\n",
      "35.763    Total estimated model params size (MB)\n",
      "396       Modules in train mode\n",
      "0         Modules in eval mode\n"
     ]
    },
    {
     "data": {
      "application/vnd.jupyter.widget-view+json": {
       "model_id": "",
       "version_major": 2,
       "version_minor": 0
      },
      "text/plain": [
       "Sanity Checking: |          | 0/? [00:00<?, ?it/s]"
      ]
     },
     "metadata": {},
     "output_type": "display_data"
    },
    {
     "data": {
      "application/vnd.jupyter.widget-view+json": {
       "model_id": "d165184f560848d8b28f52422f4b9395",
       "version_major": 2,
       "version_minor": 0
      },
      "text/plain": [
       "Training: |          | 0/? [00:00<?, ?it/s]"
      ]
     },
     "metadata": {},
     "output_type": "display_data"
    },
    {
     "data": {
      "application/vnd.jupyter.widget-view+json": {
       "model_id": "",
       "version_major": 2,
       "version_minor": 0
      },
      "text/plain": [
       "Validation: |          | 0/? [00:00<?, ?it/s]"
      ]
     },
     "metadata": {},
     "output_type": "display_data"
    },
    {
     "data": {
      "application/vnd.jupyter.widget-view+json": {
       "model_id": "",
       "version_major": 2,
       "version_minor": 0
      },
      "text/plain": [
       "Validation: |          | 0/? [00:00<?, ?it/s]"
      ]
     },
     "metadata": {},
     "output_type": "display_data"
    },
    {
     "data": {
      "application/vnd.jupyter.widget-view+json": {
       "model_id": "",
       "version_major": 2,
       "version_minor": 0
      },
      "text/plain": [
       "Validation: |          | 0/? [00:00<?, ?it/s]"
      ]
     },
     "metadata": {},
     "output_type": "display_data"
    },
    {
     "data": {
      "application/vnd.jupyter.widget-view+json": {
       "model_id": "",
       "version_major": 2,
       "version_minor": 0
      },
      "text/plain": [
       "Validation: |          | 0/? [00:00<?, ?it/s]"
      ]
     },
     "metadata": {},
     "output_type": "display_data"
    },
    {
     "data": {
      "application/vnd.jupyter.widget-view+json": {
       "model_id": "",
       "version_major": 2,
       "version_minor": 0
      },
      "text/plain": [
       "Validation: |          | 0/? [00:00<?, ?it/s]"
      ]
     },
     "metadata": {},
     "output_type": "display_data"
    },
    {
     "data": {
      "application/vnd.jupyter.widget-view+json": {
       "model_id": "",
       "version_major": 2,
       "version_minor": 0
      },
      "text/plain": [
       "Validation: |          | 0/? [00:00<?, ?it/s]"
      ]
     },
     "metadata": {},
     "output_type": "display_data"
    },
    {
     "data": {
      "application/vnd.jupyter.widget-view+json": {
       "model_id": "",
       "version_major": 2,
       "version_minor": 0
      },
      "text/plain": [
       "Validation: |          | 0/? [00:00<?, ?it/s]"
      ]
     },
     "metadata": {},
     "output_type": "display_data"
    },
    {
     "data": {
      "application/vnd.jupyter.widget-view+json": {
       "model_id": "",
       "version_major": 2,
       "version_minor": 0
      },
      "text/plain": [
       "Validation: |          | 0/? [00:00<?, ?it/s]"
      ]
     },
     "metadata": {},
     "output_type": "display_data"
    },
    {
     "data": {
      "application/vnd.jupyter.widget-view+json": {
       "model_id": "",
       "version_major": 2,
       "version_minor": 0
      },
      "text/plain": [
       "Validation: |          | 0/? [00:00<?, ?it/s]"
      ]
     },
     "metadata": {},
     "output_type": "display_data"
    },
    {
     "data": {
      "application/vnd.jupyter.widget-view+json": {
       "model_id": "",
       "version_major": 2,
       "version_minor": 0
      },
      "text/plain": [
       "Validation: |          | 0/? [00:00<?, ?it/s]"
      ]
     },
     "metadata": {},
     "output_type": "display_data"
    },
    {
     "data": {
      "application/vnd.jupyter.widget-view+json": {
       "model_id": "",
       "version_major": 2,
       "version_minor": 0
      },
      "text/plain": [
       "Validation: |          | 0/? [00:00<?, ?it/s]"
      ]
     },
     "metadata": {},
     "output_type": "display_data"
    },
    {
     "data": {
      "application/vnd.jupyter.widget-view+json": {
       "model_id": "",
       "version_major": 2,
       "version_minor": 0
      },
      "text/plain": [
       "Validation: |          | 0/? [00:00<?, ?it/s]"
      ]
     },
     "metadata": {},
     "output_type": "display_data"
    },
    {
     "data": {
      "application/vnd.jupyter.widget-view+json": {
       "model_id": "",
       "version_major": 2,
       "version_minor": 0
      },
      "text/plain": [
       "Validation: |          | 0/? [00:00<?, ?it/s]"
      ]
     },
     "metadata": {},
     "output_type": "display_data"
    },
    {
     "data": {
      "application/vnd.jupyter.widget-view+json": {
       "model_id": "",
       "version_major": 2,
       "version_minor": 0
      },
      "text/plain": [
       "Validation: |          | 0/? [00:00<?, ?it/s]"
      ]
     },
     "metadata": {},
     "output_type": "display_data"
    },
    {
     "data": {
      "application/vnd.jupyter.widget-view+json": {
       "model_id": "",
       "version_major": 2,
       "version_minor": 0
      },
      "text/plain": [
       "Validation: |          | 0/? [00:00<?, ?it/s]"
      ]
     },
     "metadata": {},
     "output_type": "display_data"
    },
    {
     "data": {
      "application/vnd.jupyter.widget-view+json": {
       "model_id": "",
       "version_major": 2,
       "version_minor": 0
      },
      "text/plain": [
       "Validation: |          | 0/? [00:00<?, ?it/s]"
      ]
     },
     "metadata": {},
     "output_type": "display_data"
    },
    {
     "data": {
      "application/vnd.jupyter.widget-view+json": {
       "model_id": "",
       "version_major": 2,
       "version_minor": 0
      },
      "text/plain": [
       "Validation: |          | 0/? [00:00<?, ?it/s]"
      ]
     },
     "metadata": {},
     "output_type": "display_data"
    },
    {
     "data": {
      "application/vnd.jupyter.widget-view+json": {
       "model_id": "",
       "version_major": 2,
       "version_minor": 0
      },
      "text/plain": [
       "Validation: |          | 0/? [00:00<?, ?it/s]"
      ]
     },
     "metadata": {},
     "output_type": "display_data"
    },
    {
     "data": {
      "application/vnd.jupyter.widget-view+json": {
       "model_id": "",
       "version_major": 2,
       "version_minor": 0
      },
      "text/plain": [
       "Validation: |          | 0/? [00:00<?, ?it/s]"
      ]
     },
     "metadata": {},
     "output_type": "display_data"
    },
    {
     "data": {
      "application/vnd.jupyter.widget-view+json": {
       "model_id": "",
       "version_major": 2,
       "version_minor": 0
      },
      "text/plain": [
       "Validation: |          | 0/? [00:00<?, ?it/s]"
      ]
     },
     "metadata": {},
     "output_type": "display_data"
    },
    {
     "data": {
      "application/vnd.jupyter.widget-view+json": {
       "model_id": "",
       "version_major": 2,
       "version_minor": 0
      },
      "text/plain": [
       "Validation: |          | 0/? [00:00<?, ?it/s]"
      ]
     },
     "metadata": {},
     "output_type": "display_data"
    },
    {
     "data": {
      "application/vnd.jupyter.widget-view+json": {
       "model_id": "",
       "version_major": 2,
       "version_minor": 0
      },
      "text/plain": [
       "Validation: |          | 0/? [00:00<?, ?it/s]"
      ]
     },
     "metadata": {},
     "output_type": "display_data"
    },
    {
     "data": {
      "application/vnd.jupyter.widget-view+json": {
       "model_id": "",
       "version_major": 2,
       "version_minor": 0
      },
      "text/plain": [
       "Validation: |          | 0/? [00:00<?, ?it/s]"
      ]
     },
     "metadata": {},
     "output_type": "display_data"
    },
    {
     "data": {
      "application/vnd.jupyter.widget-view+json": {
       "model_id": "",
       "version_major": 2,
       "version_minor": 0
      },
      "text/plain": [
       "Validation: |          | 0/? [00:00<?, ?it/s]"
      ]
     },
     "metadata": {},
     "output_type": "display_data"
    },
    {
     "data": {
      "application/vnd.jupyter.widget-view+json": {
       "model_id": "",
       "version_major": 2,
       "version_minor": 0
      },
      "text/plain": [
       "Validation: |          | 0/? [00:00<?, ?it/s]"
      ]
     },
     "metadata": {},
     "output_type": "display_data"
    },
    {
     "data": {
      "application/vnd.jupyter.widget-view+json": {
       "model_id": "",
       "version_major": 2,
       "version_minor": 0
      },
      "text/plain": [
       "Validation: |          | 0/? [00:00<?, ?it/s]"
      ]
     },
     "metadata": {},
     "output_type": "display_data"
    },
    {
     "data": {
      "application/vnd.jupyter.widget-view+json": {
       "model_id": "",
       "version_major": 2,
       "version_minor": 0
      },
      "text/plain": [
       "Validation: |          | 0/? [00:00<?, ?it/s]"
      ]
     },
     "metadata": {},
     "output_type": "display_data"
    },
    {
     "data": {
      "application/vnd.jupyter.widget-view+json": {
       "model_id": "",
       "version_major": 2,
       "version_minor": 0
      },
      "text/plain": [
       "Validation: |          | 0/? [00:00<?, ?it/s]"
      ]
     },
     "metadata": {},
     "output_type": "display_data"
    },
    {
     "data": {
      "application/vnd.jupyter.widget-view+json": {
       "model_id": "",
       "version_major": 2,
       "version_minor": 0
      },
      "text/plain": [
       "Validation: |          | 0/? [00:00<?, ?it/s]"
      ]
     },
     "metadata": {},
     "output_type": "display_data"
    },
    {
     "data": {
      "application/vnd.jupyter.widget-view+json": {
       "model_id": "",
       "version_major": 2,
       "version_minor": 0
      },
      "text/plain": [
       "Validation: |          | 0/? [00:00<?, ?it/s]"
      ]
     },
     "metadata": {},
     "output_type": "display_data"
    },
    {
     "data": {
      "application/vnd.jupyter.widget-view+json": {
       "model_id": "",
       "version_major": 2,
       "version_minor": 0
      },
      "text/plain": [
       "Validation: |          | 0/? [00:00<?, ?it/s]"
      ]
     },
     "metadata": {},
     "output_type": "display_data"
    },
    {
     "data": {
      "application/vnd.jupyter.widget-view+json": {
       "model_id": "",
       "version_major": 2,
       "version_minor": 0
      },
      "text/plain": [
       "Validation: |          | 0/? [00:00<?, ?it/s]"
      ]
     },
     "metadata": {},
     "output_type": "display_data"
    },
    {
     "data": {
      "application/vnd.jupyter.widget-view+json": {
       "model_id": "",
       "version_major": 2,
       "version_minor": 0
      },
      "text/plain": [
       "Validation: |          | 0/? [00:00<?, ?it/s]"
      ]
     },
     "metadata": {},
     "output_type": "display_data"
    },
    {
     "data": {
      "application/vnd.jupyter.widget-view+json": {
       "model_id": "",
       "version_major": 2,
       "version_minor": 0
      },
      "text/plain": [
       "Validation: |          | 0/? [00:00<?, ?it/s]"
      ]
     },
     "metadata": {},
     "output_type": "display_data"
    },
    {
     "data": {
      "application/vnd.jupyter.widget-view+json": {
       "model_id": "",
       "version_major": 2,
       "version_minor": 0
      },
      "text/plain": [
       "Validation: |          | 0/? [00:00<?, ?it/s]"
      ]
     },
     "metadata": {},
     "output_type": "display_data"
    },
    {
     "data": {
      "application/vnd.jupyter.widget-view+json": {
       "model_id": "",
       "version_major": 2,
       "version_minor": 0
      },
      "text/plain": [
       "Validation: |          | 0/? [00:00<?, ?it/s]"
      ]
     },
     "metadata": {},
     "output_type": "display_data"
    },
    {
     "data": {
      "application/vnd.jupyter.widget-view+json": {
       "model_id": "",
       "version_major": 2,
       "version_minor": 0
      },
      "text/plain": [
       "Validation: |          | 0/? [00:00<?, ?it/s]"
      ]
     },
     "metadata": {},
     "output_type": "display_data"
    },
    {
     "data": {
      "application/vnd.jupyter.widget-view+json": {
       "model_id": "",
       "version_major": 2,
       "version_minor": 0
      },
      "text/plain": [
       "Validation: |          | 0/? [00:00<?, ?it/s]"
      ]
     },
     "metadata": {},
     "output_type": "display_data"
    },
    {
     "data": {
      "application/vnd.jupyter.widget-view+json": {
       "model_id": "",
       "version_major": 2,
       "version_minor": 0
      },
      "text/plain": [
       "Validation: |          | 0/? [00:00<?, ?it/s]"
      ]
     },
     "metadata": {},
     "output_type": "display_data"
    },
    {
     "data": {
      "application/vnd.jupyter.widget-view+json": {
       "model_id": "",
       "version_major": 2,
       "version_minor": 0
      },
      "text/plain": [
       "Validation: |          | 0/? [00:00<?, ?it/s]"
      ]
     },
     "metadata": {},
     "output_type": "display_data"
    },
    {
     "data": {
      "application/vnd.jupyter.widget-view+json": {
       "model_id": "",
       "version_major": 2,
       "version_minor": 0
      },
      "text/plain": [
       "Validation: |          | 0/? [00:00<?, ?it/s]"
      ]
     },
     "metadata": {},
     "output_type": "display_data"
    },
    {
     "data": {
      "application/vnd.jupyter.widget-view+json": {
       "model_id": "",
       "version_major": 2,
       "version_minor": 0
      },
      "text/plain": [
       "Validation: |          | 0/? [00:00<?, ?it/s]"
      ]
     },
     "metadata": {},
     "output_type": "display_data"
    },
    {
     "data": {
      "application/vnd.jupyter.widget-view+json": {
       "model_id": "",
       "version_major": 2,
       "version_minor": 0
      },
      "text/plain": [
       "Validation: |          | 0/? [00:00<?, ?it/s]"
      ]
     },
     "metadata": {},
     "output_type": "display_data"
    },
    {
     "data": {
      "application/vnd.jupyter.widget-view+json": {
       "model_id": "",
       "version_major": 2,
       "version_minor": 0
      },
      "text/plain": [
       "Validation: |          | 0/? [00:00<?, ?it/s]"
      ]
     },
     "metadata": {},
     "output_type": "display_data"
    },
    {
     "data": {
      "application/vnd.jupyter.widget-view+json": {
       "model_id": "",
       "version_major": 2,
       "version_minor": 0
      },
      "text/plain": [
       "Validation: |          | 0/? [00:00<?, ?it/s]"
      ]
     },
     "metadata": {},
     "output_type": "display_data"
    },
    {
     "data": {
      "application/vnd.jupyter.widget-view+json": {
       "model_id": "",
       "version_major": 2,
       "version_minor": 0
      },
      "text/plain": [
       "Validation: |          | 0/? [00:00<?, ?it/s]"
      ]
     },
     "metadata": {},
     "output_type": "display_data"
    },
    {
     "data": {
      "application/vnd.jupyter.widget-view+json": {
       "model_id": "",
       "version_major": 2,
       "version_minor": 0
      },
      "text/plain": [
       "Validation: |          | 0/? [00:00<?, ?it/s]"
      ]
     },
     "metadata": {},
     "output_type": "display_data"
    },
    {
     "data": {
      "application/vnd.jupyter.widget-view+json": {
       "model_id": "",
       "version_major": 2,
       "version_minor": 0
      },
      "text/plain": [
       "Validation: |          | 0/? [00:00<?, ?it/s]"
      ]
     },
     "metadata": {},
     "output_type": "display_data"
    },
    {
     "data": {
      "application/vnd.jupyter.widget-view+json": {
       "model_id": "",
       "version_major": 2,
       "version_minor": 0
      },
      "text/plain": [
       "Validation: |          | 0/? [00:00<?, ?it/s]"
      ]
     },
     "metadata": {},
     "output_type": "display_data"
    },
    {
     "data": {
      "application/vnd.jupyter.widget-view+json": {
       "model_id": "",
       "version_major": 2,
       "version_minor": 0
      },
      "text/plain": [
       "Validation: |          | 0/? [00:00<?, ?it/s]"
      ]
     },
     "metadata": {},
     "output_type": "display_data"
    },
    {
     "name": "stderr",
     "output_type": "stream",
     "text": [
      "`Trainer.fit` stopped: `max_epochs=50` reached.\n",
      "GPU available: True (cuda), used: True\n",
      "TPU available: False, using: 0 TPU cores\n",
      "HPU available: False, using: 0 HPUs\n",
      "LOCAL_RANK: 0 - CUDA_VISIBLE_DEVICES: [0]\n"
     ]
    },
    {
     "data": {
      "application/vnd.jupyter.widget-view+json": {
       "model_id": "1df46ddf1fe74f5db71918aa1882e780",
       "version_major": 2,
       "version_minor": 0
      },
      "text/plain": [
       "Predicting: |          | 0/? [00:00<?, ?it/s]"
      ]
     },
     "metadata": {},
     "output_type": "display_data"
    },
    {
     "name": "stdout",
     "output_type": "stream",
     "text": [
      "Fold 3 RMSE=2637.455097769525\n"
     ]
    },
    {
     "data": {
      "image/png": "[encoded data removed]",
      "text/plain": [
       "<Figure size 1000x400 with 1 Axes>"
      ]
     },
     "metadata": {},
     "output_type": "display_data"
    },
    {
     "name": "stderr",
     "output_type": "stream",
     "text": [
      "GPU available: True (cuda), used: True\n",
      "TPU available: False, using: 0 TPU cores\n",
      "HPU available: False, using: 0 HPUs\n",
      "LOCAL_RANK: 0 - CUDA_VISIBLE_DEVICES: [0]\n",
      "\n",
      "  | Name            | Type             | Params | Mode \n",
      "-------------------------------------------------------------\n",
      "0 | criterion       | MSELoss          | 0      | train\n",
      "1 | train_criterion | MSELoss          | 0      | train\n",
      "2 | val_criterion   | MSELoss          | 0      | train\n",
      "3 | train_metrics   | MetricCollection | 0      | train\n",
      "4 | val_metrics     | MetricCollection | 0      | train\n",
      "5 | stacks          | ModuleList       | 8.9 M  | train\n",
      "-------------------------------------------------------------\n",
      "8.9 M     Trainable params\n",
      "3.5 K     Non-trainable params\n",
      "8.9 M     Total params\n",
      "35.763    Total estimated model params size (MB)\n",
      "396       Modules in train mode\n",
      "0         Modules in eval mode\n"
     ]
    },
    {
     "data": {
      "application/vnd.jupyter.widget-view+json": {
       "model_id": "",
       "version_major": 2,
       "version_minor": 0
      },
      "text/plain": [
       "Sanity Checking: |          | 0/? [00:00<?, ?it/s]"
      ]
     },
     "metadata": {},
     "output_type": "display_data"
    },
    {
     "data": {
      "application/vnd.jupyter.widget-view+json": {
       "model_id": "cfcb855e95f74d90b5414d10f90a8192",
       "version_major": 2,
       "version_minor": 0
      },
      "text/plain": [
       "Training: |          | 0/? [00:00<?, ?it/s]"
      ]
     },
     "metadata": {},
     "output_type": "display_data"
    },
    {
     "data": {
      "application/vnd.jupyter.widget-view+json": {
       "model_id": "",
       "version_major": 2,
       "version_minor": 0
      },
      "text/plain": [
       "Validation: |          | 0/? [00:00<?, ?it/s]"
      ]
     },
     "metadata": {},
     "output_type": "display_data"
    },
    {
     "data": {
      "application/vnd.jupyter.widget-view+json": {
       "model_id": "",
       "version_major": 2,
       "version_minor": 0
      },
      "text/plain": [
       "Validation: |          | 0/? [00:00<?, ?it/s]"
      ]
     },
     "metadata": {},
     "output_type": "display_data"
    },
    {
     "data": {
      "application/vnd.jupyter.widget-view+json": {
       "model_id": "",
       "version_major": 2,
       "version_minor": 0
      },
      "text/plain": [
       "Validation: |          | 0/? [00:00<?, ?it/s]"
      ]
     },
     "metadata": {},
     "output_type": "display_data"
    },
    {
     "data": {
      "application/vnd.jupyter.widget-view+json": {
       "model_id": "",
       "version_major": 2,
       "version_minor": 0
      },
      "text/plain": [
       "Validation: |          | 0/? [00:00<?, ?it/s]"
      ]
     },
     "metadata": {},
     "output_type": "display_data"
    },
    {
     "data": {
      "application/vnd.jupyter.widget-view+json": {
       "model_id": "",
       "version_major": 2,
       "version_minor": 0
      },
      "text/plain": [
       "Validation: |          | 0/? [00:00<?, ?it/s]"
      ]
     },
     "metadata": {},
     "output_type": "display_data"
    },
    {
     "data": {
      "application/vnd.jupyter.widget-view+json": {
       "model_id": "",
       "version_major": 2,
       "version_minor": 0
      },
      "text/plain": [
       "Validation: |          | 0/? [00:00<?, ?it/s]"
      ]
     },
     "metadata": {},
     "output_type": "display_data"
    },
    {
     "data": {
      "application/vnd.jupyter.widget-view+json": {
       "model_id": "",
       "version_major": 2,
       "version_minor": 0
      },
      "text/plain": [
       "Validation: |          | 0/? [00:00<?, ?it/s]"
      ]
     },
     "metadata": {},
     "output_type": "display_data"
    },
    {
     "data": {
      "application/vnd.jupyter.widget-view+json": {
       "model_id": "",
       "version_major": 2,
       "version_minor": 0
      },
      "text/plain": [
       "Validation: |          | 0/? [00:00<?, ?it/s]"
      ]
     },
     "metadata": {},
     "output_type": "display_data"
    },
    {
     "data": {
      "application/vnd.jupyter.widget-view+json": {
       "model_id": "",
       "version_major": 2,
       "version_minor": 0
      },
      "text/plain": [
       "Validation: |          | 0/? [00:00<?, ?it/s]"
      ]
     },
     "metadata": {},
     "output_type": "display_data"
    },
    {
     "data": {
      "application/vnd.jupyter.widget-view+json": {
       "model_id": "",
       "version_major": 2,
       "version_minor": 0
      },
      "text/plain": [
       "Validation: |          | 0/? [00:00<?, ?it/s]"
      ]
     },
     "metadata": {},
     "output_type": "display_data"
    },
    {
     "data": {
      "application/vnd.jupyter.widget-view+json": {
       "model_id": "",
       "version_major": 2,
       "version_minor": 0
      },
      "text/plain": [
       "Validation: |          | 0/? [00:00<?, ?it/s]"
      ]
     },
     "metadata": {},
     "output_type": "display_data"
    },
    {
     "data": {
      "application/vnd.jupyter.widget-view+json": {
       "model_id": "",
       "version_major": 2,
       "version_minor": 0
      },
      "text/plain": [
       "Validation: |          | 0/? [00:00<?, ?it/s]"
      ]
     },
     "metadata": {},
     "output_type": "display_data"
    },
    {
     "data": {
      "application/vnd.jupyter.widget-view+json": {
       "model_id": "",
       "version_major": 2,
       "version_minor": 0
      },
      "text/plain": [
       "Validation: |          | 0/? [00:00<?, ?it/s]"
      ]
     },
     "metadata": {},
     "output_type": "display_data"
    },
    {
     "data": {
      "application/vnd.jupyter.widget-view+json": {
       "model_id": "",
       "version_major": 2,
       "version_minor": 0
      },
      "text/plain": [
       "Validation: |          | 0/? [00:00<?, ?it/s]"
      ]
     },
     "metadata": {},
     "output_type": "display_data"
    },
    {
     "data": {
      "application/vnd.jupyter.widget-view+json": {
       "model_id": "",
       "version_major": 2,
       "version_minor": 0
      },
      "text/plain": [
       "Validation: |          | 0/? [00:00<?, ?it/s]"
      ]
     },
     "metadata": {},
     "output_type": "display_data"
    },
    {
     "data": {
      "application/vnd.jupyter.widget-view+json": {
       "model_id": "",
       "version_major": 2,
       "version_minor": 0
      },
      "text/plain": [
       "Validation: |          | 0/? [00:00<?, ?it/s]"
      ]
     },
     "metadata": {},
     "output_type": "display_data"
    },
    {
     "data": {
      "application/vnd.jupyter.widget-view+json": {
       "model_id": "",
       "version_major": 2,
       "version_minor": 0
      },
      "text/plain": [
       "Validation: |          | 0/? [00:00<?, ?it/s]"
      ]
     },
     "metadata": {},
     "output_type": "display_data"
    },
    {
     "data": {
      "application/vnd.jupyter.widget-view+json": {
       "model_id": "",
       "version_major": 2,
       "version_minor": 0
      },
      "text/plain": [
       "Validation: |          | 0/? [00:00<?, ?it/s]"
      ]
     },
     "metadata": {},
     "output_type": "display_data"
    },
    {
     "data": {
      "application/vnd.jupyter.widget-view+json": {
       "model_id": "",
       "version_major": 2,
       "version_minor": 0
      },
      "text/plain": [
       "Validation: |          | 0/? [00:00<?, ?it/s]"
      ]
     },
     "metadata": {},
     "output_type": "display_data"
    },
    {
     "data": {
      "application/vnd.jupyter.widget-view+json": {
       "model_id": "",
       "version_major": 2,
       "version_minor": 0
      },
      "text/plain": [
       "Validation: |          | 0/? [00:00<?, ?it/s]"
      ]
     },
     "metadata": {},
     "output_type": "display_data"
    },
    {
     "data": {
      "application/vnd.jupyter.widget-view+json": {
       "model_id": "",
       "version_major": 2,
       "version_minor": 0
      },
      "text/plain": [
       "Validation: |          | 0/? [00:00<?, ?it/s]"
      ]
     },
     "metadata": {},
     "output_type": "display_data"
    },
    {
     "data": {
      "application/vnd.jupyter.widget-view+json": {
       "model_id": "",
       "version_major": 2,
       "version_minor": 0
      },
      "text/plain": [
       "Validation: |          | 0/? [00:00<?, ?it/s]"
      ]
     },
     "metadata": {},
     "output_type": "display_data"
    },
    {
     "data": {
      "application/vnd.jupyter.widget-view+json": {
       "model_id": "",
       "version_major": 2,
       "version_minor": 0
      },
      "text/plain": [
       "Validation: |          | 0/? [00:00<?, ?it/s]"
      ]
     },
     "metadata": {},
     "output_type": "display_data"
    },
    {
     "data": {
      "application/vnd.jupyter.widget-view+json": {
       "model_id": "",
       "version_major": 2,
       "version_minor": 0
      },
      "text/plain": [
       "Validation: |          | 0/? [00:00<?, ?it/s]"
      ]
     },
     "metadata": {},
     "output_type": "display_data"
    },
    {
     "data": {
      "application/vnd.jupyter.widget-view+json": {
       "model_id": "",
       "version_major": 2,
       "version_minor": 0
      },
      "text/plain": [
       "Validation: |          | 0/? [00:00<?, ?it/s]"
      ]
     },
     "metadata": {},
     "output_type": "display_data"
    },
    {
     "data": {
      "application/vnd.jupyter.widget-view+json": {
       "model_id": "",
       "version_major": 2,
       "version_minor": 0
      },
      "text/plain": [
       "Validation: |          | 0/? [00:00<?, ?it/s]"
      ]
     },
     "metadata": {},
     "output_type": "display_data"
    },
    {
     "data": {
      "application/vnd.jupyter.widget-view+json": {
       "model_id": "",
       "version_major": 2,
       "version_minor": 0
      },
      "text/plain": [
       "Validation: |          | 0/? [00:00<?, ?it/s]"
      ]
     },
     "metadata": {},
     "output_type": "display_data"
    },
    {
     "data": {
      "application/vnd.jupyter.widget-view+json": {
       "model_id": "",
       "version_major": 2,
       "version_minor": 0
      },
      "text/plain": [
       "Validation: |          | 0/? [00:00<?, ?it/s]"
      ]
     },
     "metadata": {},
     "output_type": "display_data"
    },
    {
     "data": {
      "application/vnd.jupyter.widget-view+json": {
       "model_id": "",
       "version_major": 2,
       "version_minor": 0
      },
      "text/plain": [
       "Validation: |          | 0/? [00:00<?, ?it/s]"
      ]
     },
     "metadata": {},
     "output_type": "display_data"
    },
    {
     "data": {
      "application/vnd.jupyter.widget-view+json": {
       "model_id": "",
       "version_major": 2,
       "version_minor": 0
      },
      "text/plain": [
       "Validation: |          | 0/? [00:00<?, ?it/s]"
      ]
     },
     "metadata": {},
     "output_type": "display_data"
    },
    {
     "data": {
      "application/vnd.jupyter.widget-view+json": {
       "model_id": "",
       "version_major": 2,
       "version_minor": 0
      },
      "text/plain": [
       "Validation: |          | 0/? [00:00<?, ?it/s]"
      ]
     },
     "metadata": {},
     "output_type": "display_data"
    },
    {
     "data": {
      "application/vnd.jupyter.widget-view+json": {
       "model_id": "",
       "version_major": 2,
       "version_minor": 0
      },
      "text/plain": [
       "Validation: |          | 0/? [00:00<?, ?it/s]"
      ]
     },
     "metadata": {},
     "output_type": "display_data"
    },
    {
     "data": {
      "application/vnd.jupyter.widget-view+json": {
       "model_id": "",
       "version_major": 2,
       "version_minor": 0
      },
      "text/plain": [
       "Validation: |          | 0/? [00:00<?, ?it/s]"
      ]
     },
     "metadata": {},
     "output_type": "display_data"
    },
    {
     "data": {
      "application/vnd.jupyter.widget-view+json": {
       "model_id": "",
       "version_major": 2,
       "version_minor": 0
      },
      "text/plain": [
       "Validation: |          | 0/? [00:00<?, ?it/s]"
      ]
     },
     "metadata": {},
     "output_type": "display_data"
    },
    {
     "data": {
      "application/vnd.jupyter.widget-view+json": {
       "model_id": "",
       "version_major": 2,
       "version_minor": 0
      },
      "text/plain": [
       "Validation: |          | 0/? [00:00<?, ?it/s]"
      ]
     },
     "metadata": {},
     "output_type": "display_data"
    }
   ],
   "source": [
    "timeserries_cv=TimeSeriesSplit(n_splits=5, test_size=365)\n",
    "metrics=[]\n",
    "early_stop = EarlyStopping(\n",
    "    monitor=\"val_loss\",  \n",
    "    mode=\"min\",          \n",
    "    patience=10,            \n",
    "\n",
    ")\n",
    "\n",
    "for fold , (train_idx, test_idx) in enumerate(timeserries_cv.split(daily)):\n",
    "    train_df=daily.iloc[train_idx]\n",
    "    test_df=daily.iloc[test_idx]\n",
    "    val_df=train_df.iloc[-730:]\n",
    "    \n",
    "    ts_train=TimeSeries.from_series(train_df)\n",
    "    ts_test=TimeSeries.from_series(test_df)\n",
    "    ts_val = TimeSeries.from_series(val_df)\n",
    "\n",
    "\n",
    "\n",
    "    #we need to scale it \n",
    "    scaler=Scaler()\n",
    "    ts_train_scaled=scaler.fit_transform(ts_train)\n",
    "    ts_test_scaled=scaler.fit_transform(ts_test)\n",
    "    ts_val_scaled = scaler.transform(ts_val)\n",
    "\n",
    "    \n",
    "    model=NBEATSModel(\n",
    "        input_chunk_length=365, #look at 365 days\n",
    "        output_chunk_length=365, #Forecast 365 days \n",
    "        n_epochs=50,\n",
    "        random_state=43,\n",
    "        pl_trainer_kwargs={'accelerator':'gpu'}\n",
    "                          #'callbacks':[early_stop]}\n",
    "    )\n",
    "    \n",
    "    model.fit(ts_train_scaled,val_series=ts_val_scaled,verbose=True)\n",
    "    \n",
    "    forecast_scaled=model.predict(365)  # Predict 365 days \n",
    "    forecast=scaler.inverse_transform(forecast_scaled)\n",
    "    \n",
    "    clipped=np.clip(forecast.values(),0,None)\n",
    "    forecast_clipped=forecast.with_values(clipped)\n",
    "    \n",
    "\n",
    "    score=rmse(ts_test,forecast_clipped)\n",
    "    metrics.append(score)\n",
    "    print(f\"Fold {fold} RMSE={score}\")\n",
    "    \n",
    "   \n",
    "    plt.figure(figsize=(10,4))\n",
    "    train_df.plot(label='Train', color='gray')\n",
    "    test_df.plot(label='Actual', color='black')\n",
    "\n",
    "    vals = forecast_clipped.values().flatten()\n",
    "    idx  = forecast_clipped.time_index\n",
    "    fc_series = pd.Series(vals, index=idx)\n",
    "    fc_series.plot(label='Forecast', color='Blue')\n",
    "\n",
    "    plt.title(f\"N-BEATS Fold {fold}\")\n",
    "    plt.legend()\n",
    "    plt.show()"
   ]
  },
  {
   "cell_type": "code",
   "execution_count": null,
   "id": "dbbe665f-5698-4957-8ab4-92e4f97ca008",
   "metadata": {
    "tags": []
   },
   "outputs": [],
   "source": []
  },
  {
   "cell_type": "code",
   "execution_count": null,
   "id": "bd76138e-a345-4d93-a984-b25ffbdd1353",
   "metadata": {
    "tags": []
   },
   "outputs": [],
   "source": []
  },
  {
   "cell_type": "code",
   "execution_count": 15,
   "id": "9013dd4b-5bb1-49d3-b3a1-4b24c2e9ac33",
   "metadata": {
    "tags": []
   },
   "outputs": [
    {
     "name": "stdout",
     "output_type": "stream",
     "text": [
      "\u001b[33mWARNING: Running pip as the 'root' user can result in broken permissions and conflicting behaviour with the system package manager. It is recommended to use a virtual environment instead: https://pip.pypa.io/warnings/venv\u001b[0m\u001b[33m\n",
      "\u001b[0m"
     ]
    }
   ],
   "source": [
    "!pip -q install statsmodels"
   ]
  },
  {
   "cell_type": "code",
   "execution_count": null,
   "id": "d8d4e61c-f4b2-4261-a34c-822632038cbf",
   "metadata": {
    "tags": []
   },
   "outputs": [],
   "source": [
    "#save the model\n",
    "model.save('NBEATS_MODEL.tar')\n",
    "\n"
   ]
  },
  {
   "cell_type": "code",
   "execution_count": null,
   "id": "94de9c3b-8089-4c39-bb73-8d1e0dd81af0",
   "metadata": {},
   "outputs": [],
   "source": [
    "loaded_model=NBEATSModel.load('NBEATS_MODEL.tar')"
   ]
  }
 ],
 "metadata": {
  "kernelspec": {
   "display_name": "Python 3 (ipykernel)",
   "language": "python",
   "name": "python3"
  },
  "language_info": {
   "codemirror_mode": {
    "name": "ipython",
    "version": 3
   },
   "file_extension": ".py",
   "mimetype": "text/x-python",
   "name": "python",
   "nbconvert_exporter": "python",
   "pygments_lexer": "ipython3",
   "version": "3.11.7"
  }
 },
 "nbformat": 4,
 "nbformat_minor": 5
}
